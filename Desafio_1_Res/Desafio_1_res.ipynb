{
 "cells": [
  {
   "cell_type": "code",
   "execution_count": 1,
   "metadata": {},
   "outputs": [
    {
     "name": "stdout",
     "output_type": "stream",
     "text": [
      "Requirement already satisfied: numpy in c:\\users\\chelo\\anaconda3\\lib\\site-packages (1.26.4)\n",
      "Requirement already satisfied: scikit-learn in c:\\users\\chelo\\anaconda3\\lib\\site-packages (1.4.2)\n",
      "Requirement already satisfied: scipy>=1.6.0 in c:\\users\\chelo\\anaconda3\\lib\\site-packages (from scikit-learn) (1.13.1)\n",
      "Requirement already satisfied: joblib>=1.2.0 in c:\\users\\chelo\\anaconda3\\lib\\site-packages (from scikit-learn) (1.4.2)\n",
      "Requirement already satisfied: threadpoolctl>=2.0.0 in c:\\users\\chelo\\anaconda3\\lib\\site-packages (from scikit-learn) (2.2.0)\n",
      "Note: you may need to restart the kernel to use updated packages.\n"
     ]
    }
   ],
   "source": [
    "%pip install numpy scikit-learn"
   ]
  },
  {
   "cell_type": "markdown",
   "metadata": {
    "id": "zq6j8LsYq1Dr"
   },
   "source": [
    "### Vectorización de texto y modelo de clasificación Naïve Bayes con el dataset 20 newsgroups"
   ]
  },
  {
   "cell_type": "code",
   "execution_count": 4,
   "metadata": {
    "id": "l7cXR6CI30ry"
   },
   "outputs": [],
   "source": [
    "from sklearn.feature_extraction.text import CountVectorizer, TfidfVectorizer\n",
    "from sklearn.metrics.pairwise import cosine_similarity\n",
    "from sklearn.naive_bayes import MultinomialNB, ComplementNB\n",
    "from sklearn.metrics import f1_score\n",
    "\n",
    "# 20newsgroups por ser un dataset clásico de NLP ya viene incluido y formateado\n",
    "# en sklearn\n",
    "from sklearn.datasets import fetch_20newsgroups\n",
    "import numpy as np"
   ]
  },
  {
   "cell_type": "markdown",
   "metadata": {
    "id": "yD-pVDWV_rQc"
   },
   "source": [
    "## Carga de datos"
   ]
  },
  {
   "cell_type": "code",
   "execution_count": 7,
   "metadata": {
    "id": "Ech9qJaUo9vK"
   },
   "outputs": [],
   "source": [
    "# cargamos los datos (ya separados de forma predeterminada en train y test)\n",
    "newsgroups_train = fetch_20newsgroups(subset='train', remove=('headers', 'footers', 'quotes'))\n",
    "newsgroups_test = fetch_20newsgroups(subset='test', remove=('headers', 'footers', 'quotes'))"
   ]
  },
  {
   "cell_type": "markdown",
   "metadata": {
    "id": "UxjSI7su_uWI"
   },
   "source": [
    "## Vectorización"
   ]
  },
  {
   "cell_type": "code",
   "execution_count": 9,
   "metadata": {
    "id": "-94VP0QYCzDn"
   },
   "outputs": [],
   "source": [
    "# instanciamos un vectorizador\n",
    "# ver diferentes parámetros de instanciación en la documentación de sklearn https://scikit-learn.org/stable/modules/generated/sklearn.feature_extraction.text.TfidfVectorizer.html\n",
    "tfidfvect = TfidfVectorizer()"
   ]
  },
  {
   "cell_type": "code",
   "execution_count": 10,
   "metadata": {
    "colab": {
     "base_uri": "https://localhost:8080/",
     "height": 104
    },
    "id": "ftPlyanuak8n",
    "outputId": "45a94d0e-49e7-4f7c-c806-7d5b66779dd0"
   },
   "outputs": [
    {
     "name": "stdout",
     "output_type": "stream",
     "text": [
      "I was wondering if anyone out there could enlighten me on this car I saw\n",
      "the other day. It was a 2-door sports car, looked to be from the late 60s/\n",
      "early 70s. It was called a Bricklin. The doors were really small. In addition,\n",
      "the front bumper was separate from the rest of the body. This is \n",
      "all I know. If anyone can tellme a model name, engine specs, years\n",
      "of production, where this car is made, history, or whatever info you\n",
      "have on this funky looking car, please e-mail.\n"
     ]
    }
   ],
   "source": [
    "# en el atributo `data` accedemos al texto\n",
    "print(newsgroups_train.data[0])"
   ]
  },
  {
   "cell_type": "code",
   "execution_count": 11,
   "metadata": {
    "id": "1zxcXV6aC_oL"
   },
   "outputs": [],
   "source": [
    "# con la interfaz habitual de sklearn podemos fitear el vectorizador\n",
    "# (obtener el vocabulario y calcular el vector IDF)\n",
    "# y transformar directamente los datos\n",
    "X_train = tfidfvect.fit_transform(newsgroups_train.data)\n",
    "# `X_train` la podemos denominar como la matriz documento-término"
   ]
  },
  {
   "cell_type": "code",
   "execution_count": 12,
   "metadata": {
    "colab": {
     "base_uri": "https://localhost:8080/"
    },
    "id": "4Sv7TXbda41-",
    "outputId": "dcca5de6-dac1-4d68-d284-ce7be2ed9e2f"
   },
   "outputs": [
    {
     "name": "stdout",
     "output_type": "stream",
     "text": [
      "<class 'scipy.sparse._csr.csr_matrix'>\n",
      "shape: (11314, 101631)\n",
      "Cantidad de documentos: 11314\n",
      "Tamaño del vocabulario (dimensionalidad de los vectores): 101631\n"
     ]
    }
   ],
   "source": [
    "# recordar que las vectorizaciones por conteos son esparsas\n",
    "# por ello sklearn convenientemente devuelve los vectores de documentos\n",
    "# como matrices esparsas\n",
    "print(type(X_train))\n",
    "print(f'shape: {X_train.shape}')\n",
    "print(f'Cantidad de documentos: {X_train.shape[0]}')\n",
    "print(f'Tamaño del vocabulario (dimensionalidad de los vectores): {X_train.shape[1]}')"
   ]
  },
  {
   "cell_type": "code",
   "execution_count": 13,
   "metadata": {
    "colab": {
     "base_uri": "https://localhost:8080/"
    },
    "id": "dgydNTZ2pAgR",
    "outputId": "95111464-e40c-4b57-d154-ede153739a82"
   },
   "outputs": [
    {
     "data": {
      "text/plain": [
       "25775"
      ]
     },
     "execution_count": 13,
     "metadata": {},
     "output_type": "execute_result"
    }
   ],
   "source": [
    "# una vez fiteado el vectorizador, podemos acceder a atributos como el vocabulario\n",
    "# aprendido. Es un diccionario que va de términos a índices.\n",
    "# El índice es la posición en el vector de documento.\n",
    "tfidfvect.vocabulary_['car']"
   ]
  },
  {
   "cell_type": "code",
   "execution_count": 14,
   "metadata": {
    "id": "xnTSZuvyrTcP"
   },
   "outputs": [],
   "source": [
    "# es muy útil tener el diccionario opuesto que va de índices a términos\n",
    "idx2word = {v: k for k,v in tfidfvect.vocabulary_.items()}"
   ]
  },
  {
   "cell_type": "code",
   "execution_count": 15,
   "metadata": {
    "colab": {
     "base_uri": "https://localhost:8080/"
    },
    "id": "swa-AgWrMSHM",
    "outputId": "93d09f31-4c42-4215-e750-a13c83ecf96a"
   },
   "outputs": [
    {
     "data": {
      "text/plain": [
       "array([ 7,  4,  4,  1, 14, 16, 13,  3,  2,  4])"
      ]
     },
     "execution_count": 15,
     "metadata": {},
     "output_type": "execute_result"
    }
   ],
   "source": [
    "# en `y_train` guardamos los targets que son enteros\n",
    "y_train = newsgroups_train.target\n",
    "y_train[:10]"
   ]
  },
  {
   "cell_type": "code",
   "execution_count": 16,
   "metadata": {
    "colab": {
     "base_uri": "https://localhost:8080/"
    },
    "id": "je5kxvQMDLvf",
    "outputId": "59799046-9799-406f-c4be-81c5765de58d"
   },
   "outputs": [
    {
     "name": "stdout",
     "output_type": "stream",
     "text": [
      "clases [ 0  1  2  3  4  5  6  7  8  9 10 11 12 13 14 15 16 17 18 19]\n"
     ]
    },
    {
     "data": {
      "text/plain": [
       "['alt.atheism',\n",
       " 'comp.graphics',\n",
       " 'comp.os.ms-windows.misc',\n",
       " 'comp.sys.ibm.pc.hardware',\n",
       " 'comp.sys.mac.hardware',\n",
       " 'comp.windows.x',\n",
       " 'misc.forsale',\n",
       " 'rec.autos',\n",
       " 'rec.motorcycles',\n",
       " 'rec.sport.baseball',\n",
       " 'rec.sport.hockey',\n",
       " 'sci.crypt',\n",
       " 'sci.electronics',\n",
       " 'sci.med',\n",
       " 'sci.space',\n",
       " 'soc.religion.christian',\n",
       " 'talk.politics.guns',\n",
       " 'talk.politics.mideast',\n",
       " 'talk.politics.misc',\n",
       " 'talk.religion.misc']"
      ]
     },
     "execution_count": 16,
     "metadata": {},
     "output_type": "execute_result"
    }
   ],
   "source": [
    "# hay 20 clases correspondientes a los 20 grupos de noticias\n",
    "print(f'clases {np.unique(newsgroups_test.target)}')\n",
    "newsgroups_test.target_names"
   ]
  },
  {
   "cell_type": "markdown",
   "metadata": {
    "id": "SXCICFSd_y90"
   },
   "source": [
    "## Similaridad de documentos"
   ]
  },
  {
   "cell_type": "code",
   "execution_count": 27,
   "metadata": {
    "colab": {
     "base_uri": "https://localhost:8080/"
    },
    "id": "_pki_olShnyE",
    "outputId": "b2bd8485-40c7-4923-c8a9-4ad6b735576e"
   },
   "outputs": [
    {
     "name": "stdout",
     "output_type": "stream",
     "text": [
      "THE WHITE HOUSE\n",
      "\n",
      "                  Office of the Press Secretary\n",
      "                   (Pittsburgh, Pennslyvania)\n",
      "______________________________________________________________\n",
      "For Immediate Release                         April 17, 1993     \n",
      "\n",
      "             \n",
      "                  RADIO ADDRESS TO THE NATION \n",
      "                        BY THE PRESIDENT\n",
      "             \n",
      "                Pittsburgh International Airport\n",
      "                    Pittsburgh, Pennsylvania\n",
      "             \n",
      "             \n",
      "10:06 A.M. EDT\n",
      "             \n",
      "             \n",
      "             THE PRESIDENT:  Good morning.  My voice is coming to\n",
      "you this morning through the facilities of the oldest radio\n",
      "station in America, KDKA in Pittsburgh.  I'm visiting the city to\n",
      "meet personally with citizens here to discuss my plans for jobs,\n",
      "health care and the economy.  But I wanted first to do my weekly\n",
      "broadcast with the American people. \n",
      "             \n",
      "             I'm told this station first broadcast in 1920 when\n",
      "it reported that year's presidential elections.  Over the past\n",
      "seven decades presidents have found ways to keep in touch with\n",
      "the people, from whistle-stop tours to fire-side chats to the bus\n",
      "tour that I adopted, along with Vice President Gore, in last\n",
      "year's campaign.\n",
      "             \n",
      "             Every Saturday morning I take this time to talk with\n",
      "you, my fellow Americans, about the problems on your minds and\n",
      "what I'm doing to try and solve them.  It's my way of reporting\n",
      "to you and of giving you a way to hold me accountable.\n",
      "             \n",
      "             You sent me to Washington to get our government and\n",
      "economy moving after years of paralysis and policy and a bad\n",
      "experiment with trickle-down economics.  You know how important\n",
      "it is for us to make bold, comprehensive changes in the way we do\n",
      "business.  \n",
      "             \n",
      "             We live in a competitive global economy.  Nations\n",
      "rise and fall on the skills of their workers, the competitiveness\n",
      "of their companies, the imagination of their industries, and the\n",
      "cooperative experience and spirit that exists between business,\n",
      "labor and government.  Although many of the economies of the\n",
      "industrialized world are now suffering from slow growth, they've\n",
      "made many of the smart investments and the tough choices which\n",
      "our government has for too long ignored.  That's why many of them\n",
      "have been moving ahead and too many of our people have been\n",
      "falling behind.\n",
      "             \n",
      "             We have an economy today that even when it grows is\n",
      "not producing new jobs.  We've increased the debt of our nation\n",
      "by four times over the last 12 years, and we don't have much to\n",
      "show for it.  We know that wages of most working people have\n",
      "stopped rising, that most people are working longer work weeks\n",
      "and that too many families can no longer afford the escalating\n",
      "cost of health care.\n",
      "             \n",
      "             But we also know that, given the right tools, the\n",
      "right incentives and the right encouragement, our workers and\n",
      "businesses can make the kinds of products and profits our economy\n",
      "needs to expand opportunity and to make our communities better\n",
      "places to live.\n",
      "             \n",
      "             In many critical products today Americans are the\n",
      "low cost, high quality producers.  Our task is to make sure that\n",
      "we create more of those kinds of jobs.\n",
      "             \n",
      "             Just two months ago I gave Congress my plan for\n",
      "long-term jobs and economic growth.  It changes the old\n",
      "priorities in Washington and puts our emphasis where it needs to\n",
      "be -- on people's real needs, on increasing investments and jobs\n",
      "and education, on cutting the federal deficit, on stopping the\n",
      "waste which pays no dividends, and redirecting our precious\n",
      "resources toward investment that creates jobs now and lays the\n",
      "groundwork for robust economic growth in the future.\n",
      "             \n",
      "             These new directions passed the Congress in record\n",
      "time and created a new sense of hope and opportunity in our\n",
      "country.  Then the jobs plan I presented to Congress, which would\n",
      "create hundreds of thousands of jobs, most of them in the private\n",
      "sector in 1993 and 1994, passed the House of Representatives.  It\n",
      "now has the support of a majority of the United States Senate. \n",
      "But it's been held up by a filibuster of a minority in the\n",
      "Senate, just 43 senators.  They blocked a vote that they know\n",
      "would result in the passage of our bill and the creation of jobs.\n",
      "             \n",
      "             The issue isn't politics; the issue is people. \n",
      "Millions of Americans are waiting for this legislation and\n",
      "counting on it, counting on us in Washington.  But the jobs bill\n",
      "has been grounded by gridlock.  \n",
      "             \n",
      "             I know the American people are tired of business as\n",
      "usual and politics as usual.  I know they don't want us to spin\n",
      "or wheels.  They want the recovery to get moving.  So I have\n",
      "taken a first step to break this gridlock and gone the extra\n",
      "mile.  Yesterday I offered to cut the size of this plan by 25\n",
      "percent -- from $16 billion to $12 billion.  \n",
      "             \n",
      "             It's not what I'd hoped for.  With 16 million\n",
      "Americans looking for full-time work, I simply can't let the bill\n",
      "languish when I know that even a compromise bill will mean\n",
      "hundreds of thousands of jobs for our people.  The mandate is to\n",
      "act to achieve change and move the country forward.  By taking\n",
      "this initiative in the face of an unrelenting Senate talkathon, I\n",
      "think we can respond to your mandate and achieve a significant\n",
      "portion of our original goals.\n",
      "             \n",
      "             First, we want to keep the programs as much as\n",
      "possible that are needed to generate jobs and meet human needs,\n",
      "including highway and road construction, summer jobs for young\n",
      "people, immunization for children, construction of waste water\n",
      "sites, and aid to small businesses.  We also want to keep funding\n",
      "for extended unemployment compensation benefits, for people who\n",
      "have been unemployed for a long time because the economy isn't\n",
      "creating jobs.\n",
      "             \n",
      "             Second, I've recommended that all the other programs\n",
      "in the bill be cut across-the-board by a little more than 40\n",
      "percent.\n",
      "             \n",
      "             And third, I've recommended a new element in this\n",
      "program to help us immediately start our attempt to fight against\n",
      "crime by providing $200 million for cities and towns to rehire\n",
      "police officers who lost their jobs during the recession and put\n",
      "them back to work protecting our people.  I'm also going to fight\n",
      "for a tough crime bill because the people of this country need it\n",
      "and deserve it.\n",
      "             \n",
      "             Now, the people who are filibustering this bill --\n",
      "the Republican senators -- say they won't vote for it because it\n",
      "increases deficit spending, because there's extra spending this\n",
      "year that hasn't already been approved.  That sounds reasonable,\n",
      "doesn't it?  Here's what they don't say.  This program is more\n",
      "than paid for by budget cuts over my five-year budget, and this\n",
      "budget is well within the spending limits already approved by the\n",
      "Congress this year.\n",
      "             \n",
      "             It's amazing to me that many of these same senators\n",
      "who are filibustering the bill voted during the previous\n",
      "administration for billions of dollars of the same kind of\n",
      "emergency spending, and much of it was not designed to put the\n",
      "American people to work.  \n",
      "             \n",
      "             This is not about deficit spending.  We have offered\n",
      "a plan to cut the deficit.  This is about where your priorities\n",
      "are -- on people or on politics.  \n",
      "             \n",
      "             Keep in mind that our jobs bill is paid for dollar\n",
      "for dollar.  It is paid for by budget cuts.  And it's the\n",
      "soundest investment we can now make for ourselves and our\n",
      "children.  I urge all Americans to take another look at this jobs\n",
      "and investment program; to consider again the benefits for all of\n",
      "us when we've helped make more American partners working to\n",
      "ensure the future of our nation and the strength of our economy.\n",
      "             \n",
      "             You know, if every American who wanted a job had\n",
      "one, we wouldn't have a lot of the other problems we have in this\n",
      "country today.  This bill is not a miracle, it's a modest first\n",
      "step to try to set off a job creation explosion in this country\n",
      "again.  But it's a step we ought to take.  And it is fully paid\n",
      "for over the life of our budget.\n",
      "             \n",
      "             Tell your lawmakers what you think.  Tell them how\n",
      "important the bill is.  If it passes, we'll all be winners.\n",
      "             \n",
      "             Good morning, and thank you for listening.\n"
     ]
    }
   ],
   "source": [
    "# Veamos similaridad de documentos. Tomemos algún documento\n",
    "idx = 4811\n",
    "print(newsgroups_train.data[idx])"
   ]
  },
  {
   "cell_type": "code",
   "execution_count": 29,
   "metadata": {
    "id": "Ssa9bqJ-hA_v"
   },
   "outputs": [],
   "source": [
    "# midamos la similaridad coseno con todos los documentos de train\n",
    "cossim = cosine_similarity(X_train[idx], X_train)[0]"
   ]
  },
  {
   "cell_type": "code",
   "execution_count": 31,
   "metadata": {
    "colab": {
     "base_uri": "https://localhost:8080/"
    },
    "id": "p_mDA7p3AzcQ",
    "outputId": "747a3923-4b1c-4e2b-921d-4ebf2b271b00"
   },
   "outputs": [
    {
     "data": {
      "text/plain": [
       "array([1.        , 0.70930477, 0.67474953, ..., 0.        , 0.        ,\n",
       "       0.        ])"
      ]
     },
     "execution_count": 31,
     "metadata": {},
     "output_type": "execute_result"
    }
   ],
   "source": [
    "# podemos ver los valores de similaridad ordenados de mayor a menos\n",
    "np.sort(cossim)[::-1]"
   ]
  },
  {
   "cell_type": "code",
   "execution_count": 33,
   "metadata": {
    "colab": {
     "base_uri": "https://localhost:8080/"
    },
    "id": "0OIhDA1jAryX",
    "outputId": "04ddf3ca-0741-42d7-8bbb-00bb395f7834"
   },
   "outputs": [
    {
     "data": {
      "text/plain": [
       "array([ 4811,  6635,  4253, ...,  1534, 10055,  4750], dtype=int64)"
      ]
     },
     "execution_count": 33,
     "metadata": {},
     "output_type": "execute_result"
    }
   ],
   "source": [
    "# y a qué documentos corresponden\n",
    "np.argsort(cossim)[::-1]"
   ]
  },
  {
   "cell_type": "code",
   "execution_count": 35,
   "metadata": {
    "id": "hP7qLS4ZBLps"
   },
   "outputs": [],
   "source": [
    "# los 5 documentos más similares:\n",
    "mostsim = np.argsort(cossim)[::-1][1:6]"
   ]
  },
  {
   "cell_type": "code",
   "execution_count": 37,
   "metadata": {
    "colab": {
     "base_uri": "https://localhost:8080/",
     "height": 35
    },
    "id": "QdJLHPJACvaj",
    "outputId": "926186cf-7d4c-4bd3-927b-ad00bf7f24f9"
   },
   "outputs": [
    {
     "data": {
      "text/plain": [
       "'talk.politics.misc'"
      ]
     },
     "execution_count": 37,
     "metadata": {},
     "output_type": "execute_result"
    }
   ],
   "source": [
    "# el documento original pertenece a la clase:\n",
    "newsgroups_train.target_names[y_train[idx]]"
   ]
  },
  {
   "cell_type": "code",
   "execution_count": 39,
   "metadata": {
    "colab": {
     "base_uri": "https://localhost:8080/"
    },
    "id": "RWy_73epCbFG",
    "outputId": "daf534e5-b2a8-43d4-d05a-9c52b816cf69"
   },
   "outputs": [
    {
     "name": "stdout",
     "output_type": "stream",
     "text": [
      "talk.politics.misc\n",
      "talk.politics.misc\n",
      "talk.politics.misc\n",
      "talk.politics.misc\n",
      "talk.politics.misc\n"
     ]
    }
   ],
   "source": [
    "# y los 5 más similares son de las clases:\n",
    "for i in mostsim:\n",
    "  print(newsgroups_train.target_names[y_train[i]])"
   ]
  },
  {
   "cell_type": "markdown",
   "metadata": {
    "id": "zRoNnKwhBqzq"
   },
   "source": [
    "### Modelo de clasificación Naïve Bayes"
   ]
  },
  {
   "cell_type": "code",
   "execution_count": 42,
   "metadata": {
    "colab": {
     "base_uri": "https://localhost:8080/",
     "height": 74
    },
    "id": "TPM0thDaLk0R",
    "outputId": "bc7fdc3e-d912-4e0c-9d9e-33efc97b46fc"
   },
   "outputs": [
    {
     "data": {
      "text/html": [
       "<style>#sk-container-id-1 {\n",
       "  /* Definition of color scheme common for light and dark mode */\n",
       "  --sklearn-color-text: black;\n",
       "  --sklearn-color-line: gray;\n",
       "  /* Definition of color scheme for unfitted estimators */\n",
       "  --sklearn-color-unfitted-level-0: #fff5e6;\n",
       "  --sklearn-color-unfitted-level-1: #f6e4d2;\n",
       "  --sklearn-color-unfitted-level-2: #ffe0b3;\n",
       "  --sklearn-color-unfitted-level-3: chocolate;\n",
       "  /* Definition of color scheme for fitted estimators */\n",
       "  --sklearn-color-fitted-level-0: #f0f8ff;\n",
       "  --sklearn-color-fitted-level-1: #d4ebff;\n",
       "  --sklearn-color-fitted-level-2: #b3dbfd;\n",
       "  --sklearn-color-fitted-level-3: cornflowerblue;\n",
       "\n",
       "  /* Specific color for light theme */\n",
       "  --sklearn-color-text-on-default-background: var(--sg-text-color, var(--theme-code-foreground, var(--jp-content-font-color1, black)));\n",
       "  --sklearn-color-background: var(--sg-background-color, var(--theme-background, var(--jp-layout-color0, white)));\n",
       "  --sklearn-color-border-box: var(--sg-text-color, var(--theme-code-foreground, var(--jp-content-font-color1, black)));\n",
       "  --sklearn-color-icon: #696969;\n",
       "\n",
       "  @media (prefers-color-scheme: dark) {\n",
       "    /* Redefinition of color scheme for dark theme */\n",
       "    --sklearn-color-text-on-default-background: var(--sg-text-color, var(--theme-code-foreground, var(--jp-content-font-color1, white)));\n",
       "    --sklearn-color-background: var(--sg-background-color, var(--theme-background, var(--jp-layout-color0, #111)));\n",
       "    --sklearn-color-border-box: var(--sg-text-color, var(--theme-code-foreground, var(--jp-content-font-color1, white)));\n",
       "    --sklearn-color-icon: #878787;\n",
       "  }\n",
       "}\n",
       "\n",
       "#sk-container-id-1 {\n",
       "  color: var(--sklearn-color-text);\n",
       "}\n",
       "\n",
       "#sk-container-id-1 pre {\n",
       "  padding: 0;\n",
       "}\n",
       "\n",
       "#sk-container-id-1 input.sk-hidden--visually {\n",
       "  border: 0;\n",
       "  clip: rect(1px 1px 1px 1px);\n",
       "  clip: rect(1px, 1px, 1px, 1px);\n",
       "  height: 1px;\n",
       "  margin: -1px;\n",
       "  overflow: hidden;\n",
       "  padding: 0;\n",
       "  position: absolute;\n",
       "  width: 1px;\n",
       "}\n",
       "\n",
       "#sk-container-id-1 div.sk-dashed-wrapped {\n",
       "  border: 1px dashed var(--sklearn-color-line);\n",
       "  margin: 0 0.4em 0.5em 0.4em;\n",
       "  box-sizing: border-box;\n",
       "  padding-bottom: 0.4em;\n",
       "  background-color: var(--sklearn-color-background);\n",
       "}\n",
       "\n",
       "#sk-container-id-1 div.sk-container {\n",
       "  /* jupyter's `normalize.less` sets `[hidden] { display: none; }`\n",
       "     but bootstrap.min.css set `[hidden] { display: none !important; }`\n",
       "     so we also need the `!important` here to be able to override the\n",
       "     default hidden behavior on the sphinx rendered scikit-learn.org.\n",
       "     See: https://github.com/scikit-learn/scikit-learn/issues/21755 */\n",
       "  display: inline-block !important;\n",
       "  position: relative;\n",
       "}\n",
       "\n",
       "#sk-container-id-1 div.sk-text-repr-fallback {\n",
       "  display: none;\n",
       "}\n",
       "\n",
       "div.sk-parallel-item,\n",
       "div.sk-serial,\n",
       "div.sk-item {\n",
       "  /* draw centered vertical line to link estimators */\n",
       "  background-image: linear-gradient(var(--sklearn-color-text-on-default-background), var(--sklearn-color-text-on-default-background));\n",
       "  background-size: 2px 100%;\n",
       "  background-repeat: no-repeat;\n",
       "  background-position: center center;\n",
       "}\n",
       "\n",
       "/* Parallel-specific style estimator block */\n",
       "\n",
       "#sk-container-id-1 div.sk-parallel-item::after {\n",
       "  content: \"\";\n",
       "  width: 100%;\n",
       "  border-bottom: 2px solid var(--sklearn-color-text-on-default-background);\n",
       "  flex-grow: 1;\n",
       "}\n",
       "\n",
       "#sk-container-id-1 div.sk-parallel {\n",
       "  display: flex;\n",
       "  align-items: stretch;\n",
       "  justify-content: center;\n",
       "  background-color: var(--sklearn-color-background);\n",
       "  position: relative;\n",
       "}\n",
       "\n",
       "#sk-container-id-1 div.sk-parallel-item {\n",
       "  display: flex;\n",
       "  flex-direction: column;\n",
       "}\n",
       "\n",
       "#sk-container-id-1 div.sk-parallel-item:first-child::after {\n",
       "  align-self: flex-end;\n",
       "  width: 50%;\n",
       "}\n",
       "\n",
       "#sk-container-id-1 div.sk-parallel-item:last-child::after {\n",
       "  align-self: flex-start;\n",
       "  width: 50%;\n",
       "}\n",
       "\n",
       "#sk-container-id-1 div.sk-parallel-item:only-child::after {\n",
       "  width: 0;\n",
       "}\n",
       "\n",
       "/* Serial-specific style estimator block */\n",
       "\n",
       "#sk-container-id-1 div.sk-serial {\n",
       "  display: flex;\n",
       "  flex-direction: column;\n",
       "  align-items: center;\n",
       "  background-color: var(--sklearn-color-background);\n",
       "  padding-right: 1em;\n",
       "  padding-left: 1em;\n",
       "}\n",
       "\n",
       "\n",
       "/* Toggleable style: style used for estimator/Pipeline/ColumnTransformer box that is\n",
       "clickable and can be expanded/collapsed.\n",
       "- Pipeline and ColumnTransformer use this feature and define the default style\n",
       "- Estimators will overwrite some part of the style using the `sk-estimator` class\n",
       "*/\n",
       "\n",
       "/* Pipeline and ColumnTransformer style (default) */\n",
       "\n",
       "#sk-container-id-1 div.sk-toggleable {\n",
       "  /* Default theme specific background. It is overwritten whether we have a\n",
       "  specific estimator or a Pipeline/ColumnTransformer */\n",
       "  background-color: var(--sklearn-color-background);\n",
       "}\n",
       "\n",
       "/* Toggleable label */\n",
       "#sk-container-id-1 label.sk-toggleable__label {\n",
       "  cursor: pointer;\n",
       "  display: block;\n",
       "  width: 100%;\n",
       "  margin-bottom: 0;\n",
       "  padding: 0.5em;\n",
       "  box-sizing: border-box;\n",
       "  text-align: center;\n",
       "}\n",
       "\n",
       "#sk-container-id-1 label.sk-toggleable__label-arrow:before {\n",
       "  /* Arrow on the left of the label */\n",
       "  content: \"▸\";\n",
       "  float: left;\n",
       "  margin-right: 0.25em;\n",
       "  color: var(--sklearn-color-icon);\n",
       "}\n",
       "\n",
       "#sk-container-id-1 label.sk-toggleable__label-arrow:hover:before {\n",
       "  color: var(--sklearn-color-text);\n",
       "}\n",
       "\n",
       "/* Toggleable content - dropdown */\n",
       "\n",
       "#sk-container-id-1 div.sk-toggleable__content {\n",
       "  max-height: 0;\n",
       "  max-width: 0;\n",
       "  overflow: hidden;\n",
       "  text-align: left;\n",
       "  /* unfitted */\n",
       "  background-color: var(--sklearn-color-unfitted-level-0);\n",
       "}\n",
       "\n",
       "#sk-container-id-1 div.sk-toggleable__content.fitted {\n",
       "  /* fitted */\n",
       "  background-color: var(--sklearn-color-fitted-level-0);\n",
       "}\n",
       "\n",
       "#sk-container-id-1 div.sk-toggleable__content pre {\n",
       "  margin: 0.2em;\n",
       "  border-radius: 0.25em;\n",
       "  color: var(--sklearn-color-text);\n",
       "  /* unfitted */\n",
       "  background-color: var(--sklearn-color-unfitted-level-0);\n",
       "}\n",
       "\n",
       "#sk-container-id-1 div.sk-toggleable__content.fitted pre {\n",
       "  /* unfitted */\n",
       "  background-color: var(--sklearn-color-fitted-level-0);\n",
       "}\n",
       "\n",
       "#sk-container-id-1 input.sk-toggleable__control:checked~div.sk-toggleable__content {\n",
       "  /* Expand drop-down */\n",
       "  max-height: 200px;\n",
       "  max-width: 100%;\n",
       "  overflow: auto;\n",
       "}\n",
       "\n",
       "#sk-container-id-1 input.sk-toggleable__control:checked~label.sk-toggleable__label-arrow:before {\n",
       "  content: \"▾\";\n",
       "}\n",
       "\n",
       "/* Pipeline/ColumnTransformer-specific style */\n",
       "\n",
       "#sk-container-id-1 div.sk-label input.sk-toggleable__control:checked~label.sk-toggleable__label {\n",
       "  color: var(--sklearn-color-text);\n",
       "  background-color: var(--sklearn-color-unfitted-level-2);\n",
       "}\n",
       "\n",
       "#sk-container-id-1 div.sk-label.fitted input.sk-toggleable__control:checked~label.sk-toggleable__label {\n",
       "  background-color: var(--sklearn-color-fitted-level-2);\n",
       "}\n",
       "\n",
       "/* Estimator-specific style */\n",
       "\n",
       "/* Colorize estimator box */\n",
       "#sk-container-id-1 div.sk-estimator input.sk-toggleable__control:checked~label.sk-toggleable__label {\n",
       "  /* unfitted */\n",
       "  background-color: var(--sklearn-color-unfitted-level-2);\n",
       "}\n",
       "\n",
       "#sk-container-id-1 div.sk-estimator.fitted input.sk-toggleable__control:checked~label.sk-toggleable__label {\n",
       "  /* fitted */\n",
       "  background-color: var(--sklearn-color-fitted-level-2);\n",
       "}\n",
       "\n",
       "#sk-container-id-1 div.sk-label label.sk-toggleable__label,\n",
       "#sk-container-id-1 div.sk-label label {\n",
       "  /* The background is the default theme color */\n",
       "  color: var(--sklearn-color-text-on-default-background);\n",
       "}\n",
       "\n",
       "/* On hover, darken the color of the background */\n",
       "#sk-container-id-1 div.sk-label:hover label.sk-toggleable__label {\n",
       "  color: var(--sklearn-color-text);\n",
       "  background-color: var(--sklearn-color-unfitted-level-2);\n",
       "}\n",
       "\n",
       "/* Label box, darken color on hover, fitted */\n",
       "#sk-container-id-1 div.sk-label.fitted:hover label.sk-toggleable__label.fitted {\n",
       "  color: var(--sklearn-color-text);\n",
       "  background-color: var(--sklearn-color-fitted-level-2);\n",
       "}\n",
       "\n",
       "/* Estimator label */\n",
       "\n",
       "#sk-container-id-1 div.sk-label label {\n",
       "  font-family: monospace;\n",
       "  font-weight: bold;\n",
       "  display: inline-block;\n",
       "  line-height: 1.2em;\n",
       "}\n",
       "\n",
       "#sk-container-id-1 div.sk-label-container {\n",
       "  text-align: center;\n",
       "}\n",
       "\n",
       "/* Estimator-specific */\n",
       "#sk-container-id-1 div.sk-estimator {\n",
       "  font-family: monospace;\n",
       "  border: 1px dotted var(--sklearn-color-border-box);\n",
       "  border-radius: 0.25em;\n",
       "  box-sizing: border-box;\n",
       "  margin-bottom: 0.5em;\n",
       "  /* unfitted */\n",
       "  background-color: var(--sklearn-color-unfitted-level-0);\n",
       "}\n",
       "\n",
       "#sk-container-id-1 div.sk-estimator.fitted {\n",
       "  /* fitted */\n",
       "  background-color: var(--sklearn-color-fitted-level-0);\n",
       "}\n",
       "\n",
       "/* on hover */\n",
       "#sk-container-id-1 div.sk-estimator:hover {\n",
       "  /* unfitted */\n",
       "  background-color: var(--sklearn-color-unfitted-level-2);\n",
       "}\n",
       "\n",
       "#sk-container-id-1 div.sk-estimator.fitted:hover {\n",
       "  /* fitted */\n",
       "  background-color: var(--sklearn-color-fitted-level-2);\n",
       "}\n",
       "\n",
       "/* Specification for estimator info (e.g. \"i\" and \"?\") */\n",
       "\n",
       "/* Common style for \"i\" and \"?\" */\n",
       "\n",
       ".sk-estimator-doc-link,\n",
       "a:link.sk-estimator-doc-link,\n",
       "a:visited.sk-estimator-doc-link {\n",
       "  float: right;\n",
       "  font-size: smaller;\n",
       "  line-height: 1em;\n",
       "  font-family: monospace;\n",
       "  background-color: var(--sklearn-color-background);\n",
       "  border-radius: 1em;\n",
       "  height: 1em;\n",
       "  width: 1em;\n",
       "  text-decoration: none !important;\n",
       "  margin-left: 1ex;\n",
       "  /* unfitted */\n",
       "  border: var(--sklearn-color-unfitted-level-1) 1pt solid;\n",
       "  color: var(--sklearn-color-unfitted-level-1);\n",
       "}\n",
       "\n",
       ".sk-estimator-doc-link.fitted,\n",
       "a:link.sk-estimator-doc-link.fitted,\n",
       "a:visited.sk-estimator-doc-link.fitted {\n",
       "  /* fitted */\n",
       "  border: var(--sklearn-color-fitted-level-1) 1pt solid;\n",
       "  color: var(--sklearn-color-fitted-level-1);\n",
       "}\n",
       "\n",
       "/* On hover */\n",
       "div.sk-estimator:hover .sk-estimator-doc-link:hover,\n",
       ".sk-estimator-doc-link:hover,\n",
       "div.sk-label-container:hover .sk-estimator-doc-link:hover,\n",
       ".sk-estimator-doc-link:hover {\n",
       "  /* unfitted */\n",
       "  background-color: var(--sklearn-color-unfitted-level-3);\n",
       "  color: var(--sklearn-color-background);\n",
       "  text-decoration: none;\n",
       "}\n",
       "\n",
       "div.sk-estimator.fitted:hover .sk-estimator-doc-link.fitted:hover,\n",
       ".sk-estimator-doc-link.fitted:hover,\n",
       "div.sk-label-container:hover .sk-estimator-doc-link.fitted:hover,\n",
       ".sk-estimator-doc-link.fitted:hover {\n",
       "  /* fitted */\n",
       "  background-color: var(--sklearn-color-fitted-level-3);\n",
       "  color: var(--sklearn-color-background);\n",
       "  text-decoration: none;\n",
       "}\n",
       "\n",
       "/* Span, style for the box shown on hovering the info icon */\n",
       ".sk-estimator-doc-link span {\n",
       "  display: none;\n",
       "  z-index: 9999;\n",
       "  position: relative;\n",
       "  font-weight: normal;\n",
       "  right: .2ex;\n",
       "  padding: .5ex;\n",
       "  margin: .5ex;\n",
       "  width: min-content;\n",
       "  min-width: 20ex;\n",
       "  max-width: 50ex;\n",
       "  color: var(--sklearn-color-text);\n",
       "  box-shadow: 2pt 2pt 4pt #999;\n",
       "  /* unfitted */\n",
       "  background: var(--sklearn-color-unfitted-level-0);\n",
       "  border: .5pt solid var(--sklearn-color-unfitted-level-3);\n",
       "}\n",
       "\n",
       ".sk-estimator-doc-link.fitted span {\n",
       "  /* fitted */\n",
       "  background: var(--sklearn-color-fitted-level-0);\n",
       "  border: var(--sklearn-color-fitted-level-3);\n",
       "}\n",
       "\n",
       ".sk-estimator-doc-link:hover span {\n",
       "  display: block;\n",
       "}\n",
       "\n",
       "/* \"?\"-specific style due to the `<a>` HTML tag */\n",
       "\n",
       "#sk-container-id-1 a.estimator_doc_link {\n",
       "  float: right;\n",
       "  font-size: 1rem;\n",
       "  line-height: 1em;\n",
       "  font-family: monospace;\n",
       "  background-color: var(--sklearn-color-background);\n",
       "  border-radius: 1rem;\n",
       "  height: 1rem;\n",
       "  width: 1rem;\n",
       "  text-decoration: none;\n",
       "  /* unfitted */\n",
       "  color: var(--sklearn-color-unfitted-level-1);\n",
       "  border: var(--sklearn-color-unfitted-level-1) 1pt solid;\n",
       "}\n",
       "\n",
       "#sk-container-id-1 a.estimator_doc_link.fitted {\n",
       "  /* fitted */\n",
       "  border: var(--sklearn-color-fitted-level-1) 1pt solid;\n",
       "  color: var(--sklearn-color-fitted-level-1);\n",
       "}\n",
       "\n",
       "/* On hover */\n",
       "#sk-container-id-1 a.estimator_doc_link:hover {\n",
       "  /* unfitted */\n",
       "  background-color: var(--sklearn-color-unfitted-level-3);\n",
       "  color: var(--sklearn-color-background);\n",
       "  text-decoration: none;\n",
       "}\n",
       "\n",
       "#sk-container-id-1 a.estimator_doc_link.fitted:hover {\n",
       "  /* fitted */\n",
       "  background-color: var(--sklearn-color-fitted-level-3);\n",
       "}\n",
       "</style><div id=\"sk-container-id-1\" class=\"sk-top-container\"><div class=\"sk-text-repr-fallback\"><pre>MultinomialNB()</pre><b>In a Jupyter environment, please rerun this cell to show the HTML representation or trust the notebook. <br />On GitHub, the HTML representation is unable to render, please try loading this page with nbviewer.org.</b></div><div class=\"sk-container\" hidden><div class=\"sk-item\"><div class=\"sk-estimator fitted sk-toggleable\"><input class=\"sk-toggleable__control sk-hidden--visually\" id=\"sk-estimator-id-1\" type=\"checkbox\" checked><label for=\"sk-estimator-id-1\" class=\"sk-toggleable__label fitted sk-toggleable__label-arrow fitted\">&nbsp;&nbsp;MultinomialNB<a class=\"sk-estimator-doc-link fitted\" rel=\"noreferrer\" target=\"_blank\" href=\"https://scikit-learn.org/1.4/modules/generated/sklearn.naive_bayes.MultinomialNB.html\">?<span>Documentation for MultinomialNB</span></a><span class=\"sk-estimator-doc-link fitted\">i<span>Fitted</span></span></label><div class=\"sk-toggleable__content fitted\"><pre>MultinomialNB()</pre></div> </div></div></div></div>"
      ],
      "text/plain": [
       "MultinomialNB()"
      ]
     },
     "execution_count": 42,
     "metadata": {},
     "output_type": "execute_result"
    }
   ],
   "source": [
    "# es muy fácil instanciar un modelo de clasificación Naïve Bayes y entrenarlo con sklearn\n",
    "clf = MultinomialNB()\n",
    "clf.fit(X_train, y_train)"
   ]
  },
  {
   "cell_type": "code",
   "execution_count": 44,
   "metadata": {
    "id": "NrQjzM48Mu4T"
   },
   "outputs": [],
   "source": [
    "# con nuestro vectorizador ya fiteado en train, vectorizamos los textos\n",
    "# del conjunto de test\n",
    "X_test = tfidfvect.transform(newsgroups_test.data)\n",
    "y_test = newsgroups_test.target\n",
    "y_pred =  clf.predict(X_test)"
   ]
  },
  {
   "cell_type": "code",
   "execution_count": 46,
   "metadata": {
    "colab": {
     "base_uri": "https://localhost:8080/"
    },
    "id": "UkGJhetEPdA4",
    "outputId": "232ee2ce-e904-466e-be57-babc1f319029"
   },
   "outputs": [
    {
     "data": {
      "text/plain": [
       "0.5854345727938506"
      ]
     },
     "execution_count": 46,
     "metadata": {},
     "output_type": "execute_result"
    }
   ],
   "source": [
    "# el F1-score es una metrica adecuada para reportar desempeño de modelos de claificación\n",
    "# es robusta al desbalance de clases. El promediado 'macro' es el promedio de los\n",
    "# F1-score de cada clase. El promedio 'micro' es equivalente a la accuracy que no\n",
    "# es una buena métrica cuando los datasets son desbalanceados\n",
    "f1_score(y_test, y_pred, average='macro')"
   ]
  },
  {
   "cell_type": "markdown",
   "metadata": {
    "id": "McArD4rSDR2K"
   },
   "source": [
    "### Consigna del desafío 1"
   ]
  },
  {
   "cell_type": "markdown",
   "metadata": {
    "id": "lJgf6GQIIEH1"
   },
   "source": [
    "**1**. Vectorizar documentos. Tomar 5 documentos al azar y medir similaridad con el resto de los documentos.\n",
    "Estudiar los 5 documentos más similares de cada uno analizar si tiene sentido\n",
    "la similaridad según el contenido del texto y la etiqueta de clasificación.\n",
    "\n",
    "**2**. Entrenar modelos de clasificación Naïve Bayes para maximizar el desempeño de clasificación\n",
    "(f1-score macro) en el conjunto de datos de test. Considerar cambiar parámteros\n",
    "de instanciación del vectorizador y los modelos y probar modelos de Naïve Bayes Multinomial\n",
    "y ComplementNB.\n",
    "\n",
    "**3**. Transponer la matriz documento-término. De esa manera se obtiene una matriz\n",
    "término-documento que puede ser interpretada como una colección de vectorización de palabras.\n",
    "Estudiar ahora similaridad entre palabras tomando 5 palabras y estudiando sus 5 más similares. **La elección de palabras no debe ser al azar para evitar la aparición de términos poco interpretables, elegirlas \"manualmente\"**.\n"
   ]
  },
  {
   "cell_type": "markdown",
   "metadata": {},
   "source": [
    "#### Resolución"
   ]
  },
  {
   "cell_type": "markdown",
   "metadata": {},
   "source": [
    "##### 1. \n",
    "Vectorizar documentos. Tomar 5 documentos al azar y medir similaridad con el resto de los documentos.\n",
    "Estudiar los 5 documentos más similares de cada uno analizar si tiene sentido\n",
    "la similaridad según el contenido del texto y la etiqueta de clasificación."
   ]
  },
  {
   "cell_type": "markdown",
   "metadata": {},
   "source": [
    "- Primero vectorizamos los documentos y elegimos cinco índices al azar con la función random choice de numpy.  "
   ]
  },
  {
   "cell_type": "code",
   "execution_count": 100,
   "metadata": {},
   "outputs": [],
   "source": [
    "import numpy as np\n",
    "\n",
    "# 1. Vectorización de documentos \n",
    "tfidfvect = TfidfVectorizer()\n",
    "X_train = tfidfvect.fit_transform(newsgroups_train.data)\n",
    "\n",
    "# número total de documentos\n",
    "n_docs = X_train.shape[0]\n",
    "\n",
    "# elegimos 5 índices aleatorios usando una funcion de numpy\n",
    "indices_aleatorios = np.random.choice(n_docs, 5, replace=False)\n",
    "\n"
   ]
  },
  {
   "cell_type": "markdown",
   "metadata": {},
   "source": [
    "- Para cada uno de esos índices buscamos cada documento original y los mostramos. luego buscamos los 5 documentos  mas similares de cada uno."
   ]
  },
  {
   "cell_type": "code",
   "execution_count": 110,
   "metadata": {},
   "outputs": [
    {
     "name": "stdout",
     "output_type": "stream",
     "text": [
      "\n",
      "Documento original (índice 7114) - Categoría: comp.sys.ibm.pc.hardware\n",
      "Top 5 documentos más similares:\n",
      "  1. Índice 9493 | Categoría: comp.sys.ibm.pc.hardware | Similaridad: 0.291\n",
      "      Texto: I was wondering if anyone out there has had the same problem I am having with my Gateway 2000 486-33DX VL-Bus system with ATI Graphics Ultra Pro LB.   When I have my computer in any resolution other than 800x600, everything is fine, but whenever I use it in 800x600 (Windows, AutoCAD, GIFs) the scree...\n",
      "\n",
      "  2. Índice 1859 | Categoría: comp.sys.ibm.pc.hardware | Similaridad: 0.276\n",
      "      Texto: Hi there.  We just bought a 486 DX2/66 Gateway system with a 2 meg ATI Ultra Pro video card.  Everything seems to work fine except for the Windows Drivers for 800x600 24 bit, and 800x600 and 1024x768 16 bit modes.  The fonts and icons start deteriorating after windows startup, and within minutes of ...\n",
      "\n",
      "  3. Índice 5972 | Categoría: comp.os.ms-windows.misc | Similaridad: 0.269\n",
      "      Texto: Preface: I am a novice user at best to the Windows environment.  I am trying to execute a MS C++ 7.0 executable program which accesses a Btrieve database to build an ASCII file.    When I execute it under windows the screen goes blank and my PC locks up.  The only way for me to return is to reset th...\n",
      "\n",
      "  4. Índice 11295 | Categoría: comp.sys.ibm.pc.hardware | Similaridad: 0.256\n",
      "      Texto: I never thought I'd contribute to a Gateway thread, either pro or con, but my spleen could use a little venting.  The scenario:  \t1 - Ordered a DX2/50 w/ Ultrastor 34F Local Bus HD controller \t2 - Receive system 10 days after ordering (Happy) \t3 - Discover Ultrastor 14F ISA HD Controller inside (unh...\n",
      "\n",
      "  5. Índice 11193 | Categoría: comp.sys.ibm.pc.hardware | Similaridad: 0.250\n",
      "      Texto: Since I've been seeing all kinds of complaints regarding Gateways lately on here, I thought I post my recent pleasant experiences. My machine (4DX2-66V) this past Friday. This was two weeks to the DAY from when I called the order in.      Upon unboxing it I found everything to be in perfect order. A...\n",
      "\n",
      "\n",
      "Documento original (índice 4094) - Categoría: alt.atheism\n",
      "Top 5 documentos más similares:\n",
      "  1. Índice 5038 | Categoría: sci.med | Similaridad: 0.151\n",
      "      Texto: No, no, we aren't talking about receptors for the brain's sensory  innervation, but structures such as the thalamus that handle pain for the entire organism.  Apples and oranges.  --  ---------------------------------------------------------------------------- Gordon Banks  N3JXP      | \"Skepticism ...\n",
      "\n",
      "  2. Índice 5504 | Categoría: comp.sys.mac.hardware | Similaridad: 0.149\n",
      "      Texto:  Nec Toshiba and Sony (Apple) nearly deliver the same speed. As apples prices are very low (compared to there RAM SIMMS) You should buy what is inexpencive. But think of Driver revisions. It is easier to get driver kits from Apple than from every other manufacturer  Christian Bauer...\n",
      "\n",
      "  3. Índice 9623 | Categoría: talk.politics.mideast | Similaridad: 0.149\n",
      "      Texto: Accounts of Anti-Armenian Human Right Violations in Azerbaijan #012                  Prelude to Current Events in Nagorno-Karabakh          +---------------------------------------------------------+         |                                                         |         |  I saw a naked girl wi...\n",
      "\n",
      "  4. Índice 4271 | Categoría: talk.politics.misc | Similaridad: 0.143\n",
      "      Texto: THE WHITE HOUSE                      Office of the Press Secretary ______________________________________________________________ For Immediate Release                             April 13, 1993       \t                            REMARKS BY THE PRESIDENT,                SECRETARY OF EDUCATION RICHAR...\n",
      "\n",
      "  5. Índice 45 | Categoría: comp.sys.mac.hardware | Similaridad: 0.142\n",
      "      Texto: Of course, if you want to check the honesty of your dealler, take it in knowing what's wrong, and ask them to tell you. :)  Of course he'll probably know right a way, then charge you a $20 service fee. :)...\n",
      "\n",
      "\n",
      "Documento original (índice 726) - Categoría: comp.sys.mac.hardware\n",
      "Top 5 documentos más similares:\n",
      "  1. Índice 5318 | Categoría: comp.sys.mac.hardware | Similaridad: 0.326\n",
      "      Texto: Add me to the list of bugged 230 owners.  I had a bunch of problems regarding sleep/wakeup/restart with the 230 when I first got it, both with and without the techworks ram.  Finally it \"died\", wouldn't start, until I  opened the docking door (which snaps open) and  the machine came up fine, but wit...\n",
      "\n",
      "  2. Índice 4478 | Categoría: comp.sys.mac.hardware | Similaridad: 0.316\n",
      "      Texto: Regarding the post for information about the Mac Portable and the  Powerbook 100, here are a couple of the answers: (1) Does the Mac Portable support Appletalk? Yes (2) What CPU is in the Mac Portable? A low power version of the 68000  running at 15.87 Mhz. (3) Does the Mac Portable run system 7? Ye...\n",
      "\n",
      "  3. Índice 5013 | Categoría: comp.sys.mac.hardware | Similaridad: 0.287\n",
      "      Texto:     I have the same problem and was about to post this....  Hello duo owners (and Apple technical people :-)   I have a new duo 230 which appears to have a problem waking up from sleep when running on battery power. When woken (usually for the second time) after sleeping, the wake fails and the scre...\n",
      "\n",
      "  4. Índice 1851 | Categoría: comp.sys.ibm.pc.hardware | Similaridad: 0.287\n",
      "      Texto: Hello,  \tI have a 486sx25 ISA machine with Pheonix BIOS.  Currently I have   8 megabytes of RAM installed via eight 1 MG SIMMS on the motherboard: ie.   both banks are full, and there is no space for more SIMMS.  I am thinking   of running OS2 on my machine and Possibly Linux with X windows, and I k...\n",
      "\n",
      "  5. Índice 8486 | Categoría: comp.sys.mac.hardware | Similaridad: 0.278\n",
      "      Texto: Anyone know what would cause my IIcx to not turn on when I hit the keyboard switch?  The one in the back of the machine doesn't work either... The only way I can turn it on is to unplug the machine for a few minutes, then plug it back in and hit the power switch in the back immediately... Sometimes ...\n",
      "\n",
      "\n",
      "Documento original (índice 9246) - Categoría: soc.religion.christian\n",
      "Top 5 documentos más similares:\n",
      "  1. Índice 3838 | Categoría: soc.religion.christian | Similaridad: 0.460\n",
      "      Texto: Larry L. Overacker writes, responding to Simon:     I may be interesting to see some brief selections posted to the    net.  My understanding is that SSPX does not consider ITSELF in    schism or legitimately excommunicated.  But that's really beside    the point.  What does the Roman Catholic churc...\n",
      "\n",
      "  2. Índice 5364 | Categoría: soc.religion.christian | Similaridad: 0.426\n",
      "      Texto: Here is some material by Michael Davies on the subject of schism in general and Archishop Lefebvre in particular.  He wrote it around 1990.  The first part of the two-part article was on the scandalous activities of Archbishop Weakland (in this country), but I cut all that.  And I pared down the res...\n",
      "\n",
      "  3. Índice 3920 | Categoría: soc.religion.christian | Similaridad: 0.394\n",
      "      Texto:     You ask where we are.  I would echo that question.  I'm not trying to be    contentious.  But assuming that the Pope has universal jurisdiction    and authority, what authority do you rely upon for your decisions?    What prevents me from choosing ANY doctrine I like and saying that    Papal dis...\n",
      "\n",
      "  4. Índice 913 | Categoría: alt.atheism | Similaridad: 0.359\n",
      "      Texto: The recent rise of nostalgia in this group, combined with the   incredible level of utter bullshit, has prompted me to comb   through my archives and pull out some of \"The Best of Alt.Atheism\"   for your reading pleasure.  I'll post a couple of these a day   unless group concensus demands that I sto...\n",
      "\n",
      "  5. Índice 5423 | Categoría: talk.politics.mideast | Similaridad: 0.359\n",
      "      Texto:   Anytime.   Suffering from a severe case of myopia? No Muslim left alive - not a  single one. Leading the first Armenian units who crossed the Ottoman  border in the company of the Russian invaders was the former Ottoman  Parliamentary representative for Erzurum, Karekin Pastirmaciyan, who  assumed...\n",
      "\n",
      "\n",
      "Documento original (índice 3923) - Categoría: rec.sport.baseball\n",
      "Top 5 documentos más similares:\n",
      "  1. Índice 6254 | Categoría: rec.sport.baseball | Similaridad: 0.268\n",
      "      Texto:  The Dodgers after one inning of play have committed one error.  At this rate they'll have 1,455 errors this season!  Well maybe I'm right this time...  --  Warren Usui...\n",
      "\n",
      "  2. Índice 10238 | Categoría: sci.space | Similaridad: 0.246\n",
      "      Texto:   I know someone had long talks about Solar Sails early this year and late last year..Also about Solar Sailing. Not sure who captured it if possible..  I think it was one of the regulars who had most or all the data?  I think I started the latest round or the late last year round.. But the topic has...\n",
      "\n",
      "  3. Índice 7780 | Categoría: rec.sport.baseball | Similaridad: 0.239\n",
      "      Texto: Well, Maddux looked excellent as the Braves shutout the Cubs 1 - 0. Justice drove in the only run with an RBI single in the first. Get ready for him to have a monster year. He is now hitting the ball to the opposite field with a lot of power to go with his natural  power to right field and his good ...\n",
      "\n",
      "  4. Índice 1651 | Categoría: rec.sport.baseball | Similaridad: 0.223\n",
      "      Texto:   And some comments, with some players deleted.   Yep, that Kevin Mitchell.  I never would have expected him in the #1 spot.  It's no accident that the first two names are 1988 only.  As with first and second base, 1988 was the year of the glove.  Average DA was 20 points higher in both leagues than...\n",
      "\n",
      "  5. Índice 963 | Categoría: rec.sport.baseball | Similaridad: 0.219\n",
      "      Texto: Just a few lines about my favorite team sweeping the Dodgers (one of  my least favorite) in LA (Sweet!).  Also the Mets (my other least  favorite team) loss to the Rockies made this this a great day and a  great start to the weekend as the Cardinals are on the ESPN tonight.  Big Lee Smith is having ...\n",
      "\n",
      "\n",
      "Resumen - Documento original (índice 7114) - Categoría: comp.sys.ibm.pc.hardware\n",
      "Top 5 documentos más similares:\n",
      "  1. Índice 9493 | Categoría: comp.sys.ibm.pc.hardware | Similaridad: 0.291\n",
      "      Texto: I was wondering if anyone out there has had the same problem I am having with my Gateway 2000 486-33DX VL-Bus system with ATI Graphics Ultra Pro LB.   When I have my computer in any resolution other than 800x600, everything is fine, but whenever I use it in 800x600 (Windows, AutoCAD, GIFs) the scree...\n",
      "\n",
      "  2. Índice 1859 | Categoría: comp.sys.ibm.pc.hardware | Similaridad: 0.276\n",
      "      Texto: Hi there.  We just bought a 486 DX2/66 Gateway system with a 2 meg ATI Ultra Pro video card.  Everything seems to work fine except for the Windows Drivers for 800x600 24 bit, and 800x600 and 1024x768 16 bit modes.  The fonts and icons start deteriorating after windows startup, and within minutes of ...\n",
      "\n",
      "  3. Índice 5972 | Categoría: comp.os.ms-windows.misc | Similaridad: 0.269\n",
      "      Texto: Preface: I am a novice user at best to the Windows environment.  I am trying to execute a MS C++ 7.0 executable program which accesses a Btrieve database to build an ASCII file.    When I execute it under windows the screen goes blank and my PC locks up.  The only way for me to return is to reset th...\n",
      "\n",
      "  4. Índice 11295 | Categoría: comp.sys.ibm.pc.hardware | Similaridad: 0.256\n",
      "      Texto: I never thought I'd contribute to a Gateway thread, either pro or con, but my spleen could use a little venting.  The scenario:  \t1 - Ordered a DX2/50 w/ Ultrastor 34F Local Bus HD controller \t2 - Receive system 10 days after ordering (Happy) \t3 - Discover Ultrastor 14F ISA HD Controller inside (unh...\n",
      "\n",
      "  5. Índice 11193 | Categoría: comp.sys.ibm.pc.hardware | Similaridad: 0.250\n",
      "      Texto: Since I've been seeing all kinds of complaints regarding Gateways lately on here, I thought I post my recent pleasant experiences. My machine (4DX2-66V) this past Friday. This was two weeks to the DAY from when I called the order in.      Upon unboxing it I found everything to be in perfect order. A...\n",
      "\n",
      "\n",
      "Resumen - Documento original (índice 4094) - Categoría: alt.atheism\n",
      "Top 5 documentos más similares:\n",
      "  1. Índice 5038 | Categoría: sci.med | Similaridad: 0.151\n",
      "      Texto: No, no, we aren't talking about receptors for the brain's sensory  innervation, but structures such as the thalamus that handle pain for the entire organism.  Apples and oranges.  --  ---------------------------------------------------------------------------- Gordon Banks  N3JXP      | \"Skepticism ...\n",
      "\n",
      "  2. Índice 5504 | Categoría: comp.sys.mac.hardware | Similaridad: 0.149\n",
      "      Texto:  Nec Toshiba and Sony (Apple) nearly deliver the same speed. As apples prices are very low (compared to there RAM SIMMS) You should buy what is inexpencive. But think of Driver revisions. It is easier to get driver kits from Apple than from every other manufacturer  Christian Bauer...\n",
      "\n",
      "  3. Índice 9623 | Categoría: talk.politics.mideast | Similaridad: 0.149\n",
      "      Texto: Accounts of Anti-Armenian Human Right Violations in Azerbaijan #012                  Prelude to Current Events in Nagorno-Karabakh          +---------------------------------------------------------+         |                                                         |         |  I saw a naked girl wi...\n",
      "\n",
      "  4. Índice 4271 | Categoría: talk.politics.misc | Similaridad: 0.143\n",
      "      Texto: THE WHITE HOUSE                      Office of the Press Secretary ______________________________________________________________ For Immediate Release                             April 13, 1993       \t                            REMARKS BY THE PRESIDENT,                SECRETARY OF EDUCATION RICHAR...\n",
      "\n",
      "  5. Índice 45 | Categoría: comp.sys.mac.hardware | Similaridad: 0.142\n",
      "      Texto: Of course, if you want to check the honesty of your dealler, take it in knowing what's wrong, and ask them to tell you. :)  Of course he'll probably know right a way, then charge you a $20 service fee. :)...\n",
      "\n",
      "\n",
      "Resumen - Documento original (índice 726) - Categoría: comp.sys.mac.hardware\n",
      "Top 5 documentos más similares:\n",
      "  1. Índice 5318 | Categoría: comp.sys.mac.hardware | Similaridad: 0.326\n",
      "      Texto: Add me to the list of bugged 230 owners.  I had a bunch of problems regarding sleep/wakeup/restart with the 230 when I first got it, both with and without the techworks ram.  Finally it \"died\", wouldn't start, until I  opened the docking door (which snaps open) and  the machine came up fine, but wit...\n",
      "\n",
      "  2. Índice 4478 | Categoría: comp.sys.mac.hardware | Similaridad: 0.316\n",
      "      Texto: Regarding the post for information about the Mac Portable and the  Powerbook 100, here are a couple of the answers: (1) Does the Mac Portable support Appletalk? Yes (2) What CPU is in the Mac Portable? A low power version of the 68000  running at 15.87 Mhz. (3) Does the Mac Portable run system 7? Ye...\n",
      "\n",
      "  3. Índice 5013 | Categoría: comp.sys.mac.hardware | Similaridad: 0.287\n",
      "      Texto:     I have the same problem and was about to post this....  Hello duo owners (and Apple technical people :-)   I have a new duo 230 which appears to have a problem waking up from sleep when running on battery power. When woken (usually for the second time) after sleeping, the wake fails and the scre...\n",
      "\n",
      "  4. Índice 1851 | Categoría: comp.sys.ibm.pc.hardware | Similaridad: 0.287\n",
      "      Texto: Hello,  \tI have a 486sx25 ISA machine with Pheonix BIOS.  Currently I have   8 megabytes of RAM installed via eight 1 MG SIMMS on the motherboard: ie.   both banks are full, and there is no space for more SIMMS.  I am thinking   of running OS2 on my machine and Possibly Linux with X windows, and I k...\n",
      "\n",
      "  5. Índice 8486 | Categoría: comp.sys.mac.hardware | Similaridad: 0.278\n",
      "      Texto: Anyone know what would cause my IIcx to not turn on when I hit the keyboard switch?  The one in the back of the machine doesn't work either... The only way I can turn it on is to unplug the machine for a few minutes, then plug it back in and hit the power switch in the back immediately... Sometimes ...\n",
      "\n",
      "\n",
      "Resumen - Documento original (índice 9246) - Categoría: soc.religion.christian\n",
      "Top 5 documentos más similares:\n",
      "  1. Índice 3838 | Categoría: soc.religion.christian | Similaridad: 0.460\n",
      "      Texto: Larry L. Overacker writes, responding to Simon:     I may be interesting to see some brief selections posted to the    net.  My understanding is that SSPX does not consider ITSELF in    schism or legitimately excommunicated.  But that's really beside    the point.  What does the Roman Catholic churc...\n",
      "\n",
      "  2. Índice 5364 | Categoría: soc.religion.christian | Similaridad: 0.426\n",
      "      Texto: Here is some material by Michael Davies on the subject of schism in general and Archishop Lefebvre in particular.  He wrote it around 1990.  The first part of the two-part article was on the scandalous activities of Archbishop Weakland (in this country), but I cut all that.  And I pared down the res...\n",
      "\n",
      "  3. Índice 3920 | Categoría: soc.religion.christian | Similaridad: 0.394\n",
      "      Texto:     You ask where we are.  I would echo that question.  I'm not trying to be    contentious.  But assuming that the Pope has universal jurisdiction    and authority, what authority do you rely upon for your decisions?    What prevents me from choosing ANY doctrine I like and saying that    Papal dis...\n",
      "\n",
      "  4. Índice 913 | Categoría: alt.atheism | Similaridad: 0.359\n",
      "      Texto: The recent rise of nostalgia in this group, combined with the   incredible level of utter bullshit, has prompted me to comb   through my archives and pull out some of \"The Best of Alt.Atheism\"   for your reading pleasure.  I'll post a couple of these a day   unless group concensus demands that I sto...\n",
      "\n",
      "  5. Índice 5423 | Categoría: talk.politics.mideast | Similaridad: 0.359\n",
      "      Texto:   Anytime.   Suffering from a severe case of myopia? No Muslim left alive - not a  single one. Leading the first Armenian units who crossed the Ottoman  border in the company of the Russian invaders was the former Ottoman  Parliamentary representative for Erzurum, Karekin Pastirmaciyan, who  assumed...\n",
      "\n",
      "\n",
      "Resumen - Documento original (índice 3923) - Categoría: rec.sport.baseball\n",
      "Top 5 documentos más similares:\n",
      "  1. Índice 6254 | Categoría: rec.sport.baseball | Similaridad: 0.268\n",
      "      Texto:  The Dodgers after one inning of play have committed one error.  At this rate they'll have 1,455 errors this season!  Well maybe I'm right this time...  --  Warren Usui...\n",
      "\n",
      "  2. Índice 10238 | Categoría: sci.space | Similaridad: 0.246\n",
      "      Texto:   I know someone had long talks about Solar Sails early this year and late last year..Also about Solar Sailing. Not sure who captured it if possible..  I think it was one of the regulars who had most or all the data?  I think I started the latest round or the late last year round.. But the topic has...\n",
      "\n",
      "  3. Índice 7780 | Categoría: rec.sport.baseball | Similaridad: 0.239\n",
      "      Texto: Well, Maddux looked excellent as the Braves shutout the Cubs 1 - 0. Justice drove in the only run with an RBI single in the first. Get ready for him to have a monster year. He is now hitting the ball to the opposite field with a lot of power to go with his natural  power to right field and his good ...\n",
      "\n",
      "  4. Índice 1651 | Categoría: rec.sport.baseball | Similaridad: 0.223\n",
      "      Texto:   And some comments, with some players deleted.   Yep, that Kevin Mitchell.  I never would have expected him in the #1 spot.  It's no accident that the first two names are 1988 only.  As with first and second base, 1988 was the year of the glove.  Average DA was 20 points higher in both leagues than...\n",
      "\n",
      "  5. Índice 963 | Categoría: rec.sport.baseball | Similaridad: 0.219\n",
      "      Texto: Just a few lines about my favorite team sweeping the Dodgers (one of  my least favorite) in LA (Sweet!).  Also the Mets (my other least  favorite team) loss to the Rockies made this this a great day and a  great start to the weekend as the Cardinals are on the ESPN tonight.  Big Lee Smith is having ...\n",
      "\n"
     ]
    }
   ],
   "source": [
    "resultados = []  # lista para almacenar resultados\n",
    "\n",
    "for idx in indices_aleatorios:\n",
    "    print(f\"\\nDocumento original (índice {idx}) - Categoría: {newsgroups_train.target_names[y_train[idx]]}\")\n",
    "    \n",
    "    # Calcular similaridad con todos los documentos\n",
    "    cossim = cosine_similarity(X_train[idx], X_train).flatten()\n",
    "    \n",
    "    # Ordenar índices por similaridad (descendente), excluyendo el propio documento\n",
    "    indices_ordenados = np.argsort(cossim)[::-1]\n",
    "    mostsim = indices_ordenados[1:6]  # 5 más similares\n",
    "    \n",
    "    print(\"Top 5 documentos más similares:\")\n",
    "    \n",
    "    similares = []\n",
    "    for i, sim_idx in enumerate(mostsim):\n",
    "        categoria_similar = newsgroups_train.target_names[y_train[sim_idx]]\n",
    "        texto_similar = newsgroups_train.data[sim_idx][:300].replace(\"\\n\", \" \")  # fragmento de texto\n",
    "        similaridad_valor = cossim[sim_idx]\n",
    "        \n",
    "        print(f\"  {i+1}. Índice {sim_idx} | Categoría: {categoria_similar} | Similaridad: {similaridad_valor:.3f}\")\n",
    "        print(f\"      Texto: {texto_similar}...\\n\")\n",
    "        \n",
    "        similares.append({\n",
    "            \"indice\": sim_idx,\n",
    "            \"categoria\": categoria_similar,\n",
    "            \"texto\": texto_similar,\n",
    "            \"similaridad\": similaridad_valor\n",
    "        })\n",
    "    \n",
    "    resultados.append({\n",
    "        \"indice_original\": idx,\n",
    "        \"categoria_original\": newsgroups_train.target_names[y_train[idx]],\n",
    "        \"texto_original\": newsgroups_train.data[idx][:300].replace(\"\\n\", \" \"),\n",
    "        \"similares\": similares\n",
    "    })\n",
    "\n",
    "# Resumen final\n",
    "for resultado in resultados:\n",
    "    print(f\"\\nResumen - Documento original (índice {resultado['indice_original']}) - Categoría: {resultado['categoria_original']}\")\n",
    "    print(\"Top 5 documentos más similares:\")\n",
    "    \n",
    "    for i, sim in enumerate(resultado['similares']):\n",
    "        print(f\"  {i+1}. Índice {sim['indice']} | Categoría: {sim['categoria']} | Similaridad: {sim['similaridad']:.3f}\")\n",
    "        print(f\"      Texto: {sim['texto']}...\\n\")"
   ]
  },
  {
   "cell_type": "markdown",
   "metadata": {},
   "source": [
    "##### 2. \n",
    "Entrenar modelos de clasificación Naïve Bayes para maximizar el desempeño de clasificación\n",
    "(f1-score macro) en el conjunto de datos de test. Considerar cambiar parámteros\n",
    "de instanciación del vectorizador y los modelos y probar modelos de Naïve Bayes Multinomial\n",
    "y ComplementNB."
   ]
  },
  {
   "cell_type": "code",
   "execution_count": 116,
   "metadata": {},
   "outputs": [
    {
     "name": "stdout",
     "output_type": "stream",
     "text": [
      "Modelo: MultinomialNB, alpha=1.0, vect_params={'ngram_range': (1, 1), 'min_df': 1, 'stop_words': None}\n",
      "  F1-score macro: 0.5854\n",
      "Modelo: MultinomialNB, alpha=0.1, vect_params={'ngram_range': (1, 1), 'min_df': 1, 'stop_words': None}\n",
      "  F1-score macro: 0.6565\n",
      "Modelo: ComplementNB, alpha=1.0, vect_params={'ngram_range': (1, 1), 'min_df': 1, 'stop_words': None}\n",
      "  F1-score macro: 0.6930\n",
      "Modelo: ComplementNB, alpha=0.1, vect_params={'ngram_range': (1, 1), 'min_df': 1, 'stop_words': None}\n",
      "  F1-score macro: 0.6954\n",
      "Modelo: MultinomialNB, alpha=1.0, vect_params={'ngram_range': (1, 2), 'min_df': 2, 'stop_words': 'english'}\n",
      "  F1-score macro: 0.6504\n",
      "Modelo: MultinomialNB, alpha=0.1, vect_params={'ngram_range': (1, 2), 'min_df': 2, 'stop_words': 'english'}\n",
      "  F1-score macro: 0.6822\n",
      "Modelo: ComplementNB, alpha=1.0, vect_params={'ngram_range': (1, 2), 'min_df': 2, 'stop_words': 'english'}\n",
      "  F1-score macro: 0.7037\n",
      "Modelo: ComplementNB, alpha=0.1, vect_params={'ngram_range': (1, 2), 'min_df': 2, 'stop_words': 'english'}\n",
      "  F1-score macro: 0.7018\n",
      "Modelo: MultinomialNB, alpha=1.0, vect_params={'ngram_range': (1, 3), 'min_df': 3, 'stop_words': 'english'}\n",
      "  F1-score macro: 0.6490\n",
      "Modelo: MultinomialNB, alpha=0.1, vect_params={'ngram_range': (1, 3), 'min_df': 3, 'stop_words': 'english'}\n",
      "  F1-score macro: 0.6783\n",
      "Modelo: ComplementNB, alpha=1.0, vect_params={'ngram_range': (1, 3), 'min_df': 3, 'stop_words': 'english'}\n",
      "  F1-score macro: 0.6990\n",
      "Modelo: ComplementNB, alpha=0.1, vect_params={'ngram_range': (1, 3), 'min_df': 3, 'stop_words': 'english'}\n",
      "  F1-score macro: 0.6956\n",
      "\n",
      "=== Mejor configuración ===\n",
      "Modelo: ComplementNB\n",
      "Alpha: 1.0\n",
      "Vectorizer params: {'ngram_range': (1, 2), 'min_df': 2, 'stop_words': 'english'}\n",
      "F1-score macro: 0.7037\n"
     ]
    }
   ],
   "source": [
    "# Parámetros a probar\n",
    "vectorizer_params = [\n",
    "    {'ngram_range': (1,1), 'min_df':1, 'stop_words': None},\n",
    "    {'ngram_range': (1,2), 'min_df':2, 'stop_words': 'english'},\n",
    "    {'ngram_range': (1,3), 'min_df':3, 'stop_words': 'english'}\n",
    "]\n",
    "\n",
    "model_params = [\n",
    "    {'model': MultinomialNB(alpha=1.0)},\n",
    "    {'model': MultinomialNB(alpha=0.1)},\n",
    "    {'model': ComplementNB(alpha=1.0)},\n",
    "    {'model': ComplementNB(alpha=0.1)},\n",
    "]\n",
    "\n",
    "# Guardar resultados\n",
    "resultados = []\n",
    "\n",
    "for vect_params in vectorizer_params:\n",
    "    # instanciar vectorizador con esos parámetros\n",
    "    tfidfvect = TfidfVectorizer(**vect_params)\n",
    "    \n",
    "    # vectorizar train y test\n",
    "    X_train = tfidfvect.fit_transform(newsgroups_train.data)\n",
    "    X_test = tfidfvect.transform(newsgroups_test.data)\n",
    "    \n",
    "    for mp in model_params:\n",
    "        model = mp['model']\n",
    "        \n",
    "        # entrenar\n",
    "        model.fit(X_train, y_train)\n",
    "        \n",
    "        # predecir\n",
    "        y_pred = model.predict(X_test)\n",
    "        \n",
    "        # calcular f1 macro\n",
    "        f1 = f1_score(y_test, y_pred, average='macro')\n",
    "        \n",
    "        # guardar resultados\n",
    "        resultados.append({\n",
    "            'vectorizer_params': vect_params,\n",
    "            'model': type(model).__name__,\n",
    "            'alpha': model.alpha,\n",
    "            'f1_macro': f1\n",
    "        })\n",
    "        \n",
    "        print(f\"Modelo: {type(model).__name__}, alpha={model.alpha}, vect_params={vect_params}\")\n",
    "        print(f\"  F1-score macro: {f1:.4f}\")\n",
    "\n",
    "# Mostrar mejores resultados\n",
    "best_result = max(resultados, key=lambda x: x['f1_macro'])\n",
    "print(\"\\n=== Mejor configuración ===\")\n",
    "print(f\"Modelo: {best_result['model']}\")\n",
    "print(f\"Alpha: {best_result['alpha']}\")\n",
    "print(f\"Vectorizer params: {best_result['vectorizer_params']}\")\n",
    "print(f\"F1-score macro: {best_result['f1_macro']:.4f}\")"
   ]
  },
  {
   "cell_type": "markdown",
   "metadata": {},
   "source": [
    "#### 3.\n",
    "Transponer la matriz documento-término. De esa manera se obtiene una matriz\n",
    "término-documento que puede ser interpretada como una colección de vectorización de palabras.\n",
    "Estudiar ahora similaridad entre palabras tomando 5 palabras y estudiando sus 5 más similares. **La elección de palabras no debe ser al azar para evitar la aparición de términos poco interpretables, elegirlas \"manualmente\"**."
   ]
  },
  {
   "cell_type": "markdown",
   "metadata": {},
   "source": [
    "- Transponer la matriz X_train"
   ]
  },
  {
   "cell_type": "code",
   "execution_count": 153,
   "metadata": {},
   "outputs": [],
   "source": [
    "X_words = X_train.T  # transponemos: ahora filas son palabras\n"
   ]
  },
  {
   "cell_type": "markdown",
   "metadata": {},
   "source": [
    "- Obtener el vocabulario (mapa de términos a índices):"
   ]
  },
  {
   "cell_type": "code",
   "execution_count": 158,
   "metadata": {},
   "outputs": [],
   "source": [
    "vocabulario = tfidfvect.get_feature_names_out()"
   ]
  },
  {
   "cell_type": "markdown",
   "metadata": {},
   "source": [
    "- Elegir 5 palabras manualmente"
   ]
  },
  {
   "cell_type": "code",
   "execution_count": 172,
   "metadata": {},
   "outputs": [],
   "source": [
    "palabras_elegidas = ['cincinnati', 'fax', 'chopin', 'montreal', 'ext']"
   ]
  },
  {
   "cell_type": "markdown",
   "metadata": {},
   "source": [
    "- Obtenemos sus índices en el vocabulario:"
   ]
  },
  {
   "cell_type": "code",
   "execution_count": 175,
   "metadata": {},
   "outputs": [
    {
     "name": "stdout",
     "output_type": "stream",
     "text": [
      "✅ 'cincinnati' está en el vocabulario.\n",
      "✅ 'fax' está en el vocabulario.\n",
      "✅ 'chopin' está en el vocabulario.\n",
      "✅ 'montreal' está en el vocabulario.\n",
      "✅ 'ext' está en el vocabulario.\n"
     ]
    }
   ],
   "source": [
    "indices_palabras = [np.where(vocabulario == palabra)[0][0] for palabra in palabras_elegidas]\n"
   ]
  },
  {
   "cell_type": "markdown",
   "metadata": {},
   "source": [
    "- Calcular similaridad de coseno entre cada palabra y todas las demás"
   ]
  },
  {
   "cell_type": "code",
   "execution_count": 177,
   "metadata": {},
   "outputs": [
    {
     "name": "stdout",
     "output_type": "stream",
     "text": [
      "\n",
      "Palabra base: 'cincinnati'\n",
      "Palabras más similares:\n",
      "  1. 'booked' (similaridad: 0.4923)\n",
      "  2. 'rightfully' (similaridad: 0.4279)\n",
      "  3. 'hot spots' (similaridad: 0.3839)\n",
      "  4. 'cyclones' (similaridad: 0.3691)\n",
      "  5. '17 17' (similaridad: 0.3647)\n",
      "\n",
      "Palabra base: 'fax'\n",
      "Palabras más similares:\n",
      "  1. 'fax modem' (similaridad: 0.3684)\n",
      "  2. 'processing software' (similaridad: 0.3042)\n",
      "  3. 'ascii format' (similaridad: 0.2979)\n",
      "  4. 'service mail' (similaridad: 0.2972)\n",
      "  5. 'fax data' (similaridad: 0.2940)\n",
      "\n",
      "Palabra base: 'chopin'\n",
      "Palabras más similares:\n",
      "  1. '02106 chopin' (similaridad: 1.0000)\n",
      "  2. 'chopin' (similaridad: 1.0000)\n",
      "  3. 'chopin udel' (similaridad: 1.0000)\n",
      "  4. 'chopin udel edu' (similaridad: 1.0000)\n",
      "  5. '02106' (similaridad: 0.9108)\n",
      "\n",
      "Palabra base: 'montreal'\n",
      "Palabras más similares:\n",
      "  1. 'pittsburgh 11' (similaridad: 0.3883)\n",
      "  2. 'quebec' (similaridad: 0.3814)\n",
      "  3. 'know thinking' (similaridad: 0.3727)\n",
      "  4. 'damphousse' (similaridad: 0.3727)\n",
      "  5. 'montreal canadiens' (similaridad: 0.3625)\n",
      "\n",
      "Palabra base: 'ext'\n",
      "Palabras más similares:\n",
      "  1. 'laptops' (similaridad: 0.4666)\n",
      "  2. 'mga' (similaridad: 0.4465)\n",
      "  3. 'memory limits' (similaridad: 0.4178)\n",
      "  4. 'used lightly' (similaridad: 0.3747)\n",
      "  5. 'com fax' (similaridad: 0.3710)\n"
     ]
    }
   ],
   "source": [
    "for idx in indices_palabras:\n",
    "    # similaridad de la palabra elegida contra todas\n",
    "    cossim = cosine_similarity(X_words[idx], X_words).flatten()\n",
    "    \n",
    "    # índices ordenados de mayor a menor similaridad (excluimos la propia palabra)\n",
    "    indices_ordenados = np.argsort(cossim)[::-1]\n",
    "    mostsim = indices_ordenados[1:6]  # top 5 similares\n",
    "    \n",
    "    print(f\"\\nPalabra base: '{vocabulario[idx]}'\")\n",
    "    print(\"Palabras más similares:\")\n",
    "    for i, sim_idx in enumerate(mostsim):\n",
    "        print(f\"  {i+1}. '{vocabulario[sim_idx]}' (similaridad: {cossim[sim_idx]:.4f})\")"
   ]
  },
  {
   "cell_type": "code",
   "execution_count": null,
   "metadata": {},
   "outputs": [],
   "source": []
  }
 ],
 "metadata": {
  "colab": {
   "provenance": []
  },
  "kernelspec": {
   "display_name": "Python 3 (ipykernel)",
   "language": "python",
   "name": "python3"
  },
  "language_info": {
   "codemirror_mode": {
    "name": "ipython",
    "version": 3
   },
   "file_extension": ".py",
   "mimetype": "text/x-python",
   "name": "python",
   "nbconvert_exporter": "python",
   "pygments_lexer": "ipython3",
   "version": "3.12.3"
  }
 },
 "nbformat": 4,
 "nbformat_minor": 4
}
