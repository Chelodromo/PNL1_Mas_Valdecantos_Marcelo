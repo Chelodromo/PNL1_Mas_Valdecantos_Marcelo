{
 "cells": [
  {
   "cell_type": "markdown",
   "metadata": {
    "id": "g3yeJGnCYxuF"
   },
   "source": [
    "<img src=\"https://github.com/hernancontigiani/ceia_memorias_especializacion/raw/master/Figures/logoFIUBA.jpg\" width=\"500\" align=\"center\">\n",
    "\n",
    "\n",
    "# Procesamiento de lenguaje natural\n",
    "## Modelo de lenguaje con tokenización por caracteres"
   ]
  },
  {
   "cell_type": "markdown",
   "metadata": {
    "id": "Iv5PEwGzZA9-"
   },
   "source": [
    "### Consigna\n",
    "- Seleccionar un corpus de texto sobre el cual entrenar el modelo de lenguaje.\n",
    "- Realizar el pre-procesamiento adecuado para tokenizar el corpus, estructurar el dataset y separar entre datos de entrenamiento y validación.\n",
    "- Proponer arquitecturas de redes neuronales basadas en unidades recurrentes para implementar un modelo de lenguaje.\n",
    "- Con el o los modelos que consideren adecuados, generar nuevas secuencias a partir de secuencias de contexto con las estrategias de greedy search y beam search determístico y estocástico. En este último caso observar el efecto de la temperatura en la generación de secuencias.\n",
    "\n",
    "\n",
    "### Sugerencias\n",
    "- Durante el entrenamiento, guiarse por el descenso de la perplejidad en los datos de validación para finalizar el entrenamiento. Para ello se provee un callback.\n",
    "- Explorar utilizar SimpleRNN (celda de Elman), LSTM y GRU.\n",
    "- rmsprop es el optimizador recomendado para la buena convergencia. No obstante se pueden explorar otros.\n"
   ]
  },
  {
   "cell_type": "code",
   "execution_count": 1,
   "metadata": {
    "id": "Y-QdFbHZYj7C"
   },
   "outputs": [],
   "source": [
    "import random\n",
    "import io\n",
    "import pickle\n",
    "\n",
    "import numpy as np\n",
    "import pandas as pd\n",
    "import matplotlib.pyplot as plt\n",
    "from sklearn.model_selection import train_test_split\n",
    "\n",
    "from tensorflow import keras\n",
    "from tensorflow.keras import layers\n",
    "from keras.utils import to_categorical\n",
    "from keras.models import Sequential\n",
    "from keras.layers import Dense, LSTM, Embedding, Dropout\n",
    "from tensorflow.keras.losses import SparseCategoricalCrossentropy"
   ]
  },
  {
   "cell_type": "markdown",
   "metadata": {
    "id": "xTvXlEKQZdqx"
   },
   "source": [
    "### Datos\n",
    "Utilizaremos como dataset canciones de bandas de habla inglés."
   ]
  },
  {
   "cell_type": "code",
   "execution_count": 3,
   "metadata": {},
   "outputs": [],
   "source": [
    "# descargar de textos.info\n",
    "import urllib.request\n",
    "\n",
    "# Para leer y parsear el texto en HTML de wikipedia\n",
    "import bs4 as bs"
   ]
  },
  {
   "cell_type": "code",
   "execution_count": 4,
   "metadata": {
    "id": "7amy6uUaBLVD"
   },
   "outputs": [
    {
     "name": "stdout",
     "output_type": "stream",
     "text": [
      "El Gaucho Martín Fierro\n",
      "José Hernández\n",
      "\n",
      "1\n",
      "\n",
      "\f",
      "Texto núm. 4187\n",
      "Título: El Gaucho Martín Fierro\n",
      "Autor: José Hernández\n",
      "Etiquetas: Poesía\n",
      "Editor: Edu Robsy\n",
      "Fecha de creación: 13 de enero de 2019\n",
      "Fecha de modificación: 13 de enero de 2019\n",
      "Edita textos.info\n",
      "Maison Carrée\n",
      "c/ Ramal, 48\n",
      "07730 Alayor - Menorca\n",
      "Islas Baleares\n",
      "España\n",
      "\n",
      "\n",
      "\n",
      "2\n",
      "\n",
      "\f",
      "I\n",
      "Aquí me pongo a cantar\n",
      "al compás de la vigüela,\n",
      "que el hombre que lo desvela\n",
      "una pena estrordinaria,\n",
      "como la ave solitaria\n",
      "con el cantar se consuela.\n",
      "Pido a los Santos d\n"
     ]
    }
   ],
   "source": [
    "# Abrir y leer el contenido del archivo 'martin_fierro.txt'\n",
    "with open('martin_fierro.txt', 'r', encoding='utf-8') as file:\n",
    "    texto = file.read()\n",
    "\n",
    "# Mostrar los primeros 500 caracteres para verificar que se cargó bien\n",
    "print(texto[:500])"
   ]
  },
  {
   "cell_type": "code",
   "execution_count": 5,
   "metadata": {
    "id": "WBE0sSYuB-E6"
   },
   "outputs": [
    {
     "data": {
      "text/plain": [
       "'El Gaucho Martín Fierro\\nJosé Hernández\\n\\n1\\n\\n\\x0cTexto núm. 4187\\nTítulo: El Gaucho Martín Fierro\\nAutor: José Hernández\\nEtiquetas: Poesía\\nEditor: Edu Robsy\\nFecha de creación: 13 de enero de 2019\\nFecha de modificación: 13 de enero de 2019\\nEdita textos.info\\nMaison Carrée\\nc/ Ramal, 48\\n07730 Alayor - Menorca\\nIslas Baleares\\nEspaña\\n\\n\\n\\n2\\n\\n\\x0cI\\nAquí me pongo a cantar\\nal compás de la vigüela,\\nque el hombre que lo desvela\\nuna pena estrordinaria,\\ncomo la ave solitaria\\ncon el cantar se consuela.\\nPido a los Santos del Cielo\\nque ayuden mi pensamiento,\\nles pido en este momento\\nque voy a cantar mi historia\\nme refresquen la memoria\\ny aclaren mi entendimiento.\\nVengan Santos milagrosos,\\nvengan todos en mi ayuda,\\nque la lengua se me añuda\\ny se me turba la vista;\\npido a mi Dios que me asista\\nen una ocasión tan ruda.\\nYo he visto muchos cantores,\\ncon famas bien otenidas,\\ny que después de alquiridas\\nno las quieren sustentarparece que sin largar\\nse cansaron en partidas.\\nMas ande otro criollo pasa\\nMartín Fierro ha de pasar,\\nnada lo hace recular\\nni las fantasmas lo espantan;\\ny dende que todos cantan\\nyo también quiero cantar.\\n\\n3\\n\\n\\x0cCantando me he de morir,\\ncantando me han de enterrar,\\ny cantando he de llegar\\nal pie del Eterno Padredende el vientre de mi madre\\nvine a este mundo a cantar.\\nQue no se trabe mi lengua\\nni me falte la palabrael cantar mi gloria labra\\ny poniéndome a cantar\\ncantando me han de encontrar\\naunque la tierra se abra.\\nMe siento en el plan de un bajo\\na cantar un argumentocomo si soplara el viento\\nhago tiritar los pastoscon oros, copas y bastos,\\njuega allí mi pensamiento.\\nYo no soy cantor letrao,\\nmas si me pongo a cantar\\nno tengo cuándo acabar\\ny me envejezco cantando,\\nlas coplas me van brotando\\ncomo agua de manantial.\\nCon la guitarra en la mano\\nni las moscas se me arriman,\\nnaides me pone el pie encima,\\ny cuando el pecho se entona,\\nhago gemir a la prima\\ny llorar a la bordona.\\nYo soy toro en mi rodeo,\\ny toraso en rodeo ajeno,\\nsiempre me tuve por güeno\\ny si me quieren probar\\nsalgan otros a cantar\\n\\n4\\n\\n\\x0cy veremos quién es menos.\\nNo me hago al lao de la güeya\\naunque venga degollando,\\ncon los blandos yo soy blando,\\ny soy duro con los duros,\\ny ninguno, en un apuro\\nme ha visto andar tutubiando\\nEn el peligro ¡Qué Cristos!\\nel corazón se me enancha\\npues toda la tierra es cancha,\\ny de esto naides se asombre,\\nel que se tiene por hombre\\ndonde quiera hace pata ancha.\\nSoy gaucho, y entiendanló\\ncomo mi lengua lo esplica,\\npara mí la tierra es chica\\ny pudiera ser mayor,\\nni la víbora me pica\\nni quema mi frente el Sol.\\nNací como nace el peje\\nen el fondo de la mar,\\nnaides me puede quitar\\naquello que Dios me diolo que al mundo truje yo\\ndel mundo lo he de llevar.\\nMi gloria es vivir tan libre\\ncomo el pájaro del Cielo,\\nno hago nido en este suelo\\nande hay tanto que sufrir;\\ny naides me ha de seguir\\ncuando yo remuento el vuelo.\\nYo no tengo en el amor\\nquien me venga con querellas,\\ncomo esas aves tan bellas\\nque saltan de rama en rama-\\n\\n5\\n\\n\\x0cyo hago en el trébol mi cama\\ny me cubren las estrellas.\\nY sepan cuantos me escuchan\\nde mis penas el relato\\nque nunca peleo ni mato\\nsino por necesidad;\\ny que a tanta alversidá\\nsólo me arrojó el mal trato.\\nY atiendan la relación\\nque hace un gaucho perseguido,\\nque padre y marido ha sido\\nempeñoso y diligente,\\ny sin embargo la gente\\nlo tiene por un bandido.\\n\\n6\\n\\n\\x0cII\\nNinguno me hable de penas\\nporque yo penando vivoy naides se muestre altivo\\naunque en el estribo esté,\\nque suele quedarse a pie\\nel gaucho más alvertido.\\nJunta esperencia en la vida\\nhasta pa dar y prestar,\\nquien la tiene que pasar\\nentre sufrimiento y llanto;\\nporque nada enseña tanto\\ncomo el sufrir y el llorar.\\nViene el hombre ciego al mundo\\ncuartiándolo la esperanza\\ny a poco andar ya lo alcanzan\\nlas desgracias a empujones;\\n¡la pucha que trae liciones\\nel tiempo con sus mudanzas!\\nYo he conocido esta tierra\\nen que el paisano vivía\\ny su ranchito tenía\\ny sus hijos y mujer...\\nEra una delicia el ver\\ncómo pasaba sus días.\\nEntonces... cuando el lucero\\nbrillaba en el cielo santo,\\ny los gallos con su canto\\nnos decían que el día llegaba,\\na la cocina rumbiaba\\nel gaucho... que era un encanto.\\n\\n7\\n\\n\\x0cY sentao junto al jogón\\na esperar que venga el día,\\nal cimarrón le prendía\\nhasta ponerse rechoncho,\\nmientras su china dormía\\ntapadita con su poncho.\\nY apenas la madrugada\\nempezaba a coloriar,\\nlos pájaros a cantar,\\ny las gallinas a apiarse,\\nera cosa de largarse\\ncada cual a trabajar.\\nÉste se ata las espuelas,\\nse sale el otro cantando,\\nuno busca un pellón blando,\\néste un lazo, otro un rebenque,\\ny los pingos relinchando\\nlos llaman dende el palenque.\\nEl que era pión domador\\nenderezaba al corral\\nande estaba el animal\\nbufidos que se las pela...\\nY más malo que su agüela,\\nse hacía astillas el bagual.\\nY allí el gaucho inteligente\\nen cuanto el potro enriendó,\\nlos cueros le acomodó\\ny se le sentó en seguida,\\nque el hombre muestra en la vida\\nla astucia que Dios le dio.\\nY en las playas corcobiando\\npedazos se hacía el sotreta,\\nmientras él por las paletas\\nle jugaba las lloronas,\\ny al ruido de las caronas\\n\\n8\\n\\n\\x0csalía haciéndose gambetas.\\n¡Ah tiempos!... Si era un orgullo\\nver jinetiar un paisanoCuando era gaucho vaquiano\\naunque el potro se boliase\\nno había uno que no parase\\ncon el cabresto en la mano.\\nY mientras domaban unos,\\notros al campo salían,\\ny la hacienda recogían,\\nlas manadas repuntaban,\\ny ansí sin sentir pasaban\\nentretenidos el día.\\nY verlos al cair la noche\\nen la cocina riunidos\\ncon el juego bien prendido\\ny mil cosas que contar,\\nplaticar muy divertidos\\nhasta después de cenar.\\nY con el buche bien lleno\\nera cosa superior\\nirse en brazos del amor\\na dormir como la gente,\\npa empezar al día siguiente\\nlas fainas del día anterior.\\n¡Ricuerdo!... ¡Qué maravilla!\\ncómo andaba la gauchada\\nsiempre alegre y bien montada\\ny dispuesta pa el trabajo...\\npero hoy en el día... ¡barajo!\\nno se le ve de aporriada.\\nEl gaucho más infeliz\\ntenía tropilla de un pelo,\\nno le faltaba un consuelo\\ny andaba la gente lista...\\n\\n9\\n\\n\\x0ctendiendo al campo la vista\\nno vía sino hacienda y cielo\\nCuando llegaban las yerras,\\n¡cosa que daba calor!\\ntanto gaucho pialador\\ny tironiador sin yel¡Ah tiempos!... pero sin él\\nse ha visto tanto primor.\\nAquello no era trabajo,\\nmás bien era una junción,\\ny después de un güen tirón\\nen que uno se daba maña\\npa darle un trago de caña\\nsolía llamarlo el patrón.\\nPues siempre la mamajuana\\nvivía bajo la carreta\\ny aquel que no era chancleta\\nen cuanto el goyete vía,\\nsin miedo se le prendía,\\ncomo güérfano a la teta.\\n¡Y qué jugadas se armaban\\ncuando estábamos riunidos!\\nSiempre íbamos prevenidos\\npues en tales ocasiones,\\na ayudarles a los piones\\ncaiban muchos comedidos.\\nEran los días del apuro\\ny alboroto pa el hembraje,\\npa preparar los potajes\\ny osequiar bien a la gente,\\ny ansí, pues, muy grandemente,\\npasaba siempre el gauchaje.\\nVenía la carne con cuero,\\nla sabrosa carbonada,\\nmazamorra bien pisada\\n\\n10\\n\\n\\x0clos pasteles y el güen vino...\\npero ha querido el destino\\nque todo aquello acabara.\\nEstaba el gaucho en su pago\\ncon toda siguridá\\npero aura... ¡barbaridá!\\nla cosa anda tan fruncida\\nque gasta el pobre la vida\\nen juir de la autoridá.\\nPues si usté pisa en su rancho\\ny si el alcalde lo sabe\\nlo caza lo mesmo que ave,\\naunque su mujer aborte...\\n¡No hay tiempo que no se acabe\\nni tiento que no se corte!\\nY al punto dese por muerto\\nsi el alcalde lo bolea,\\npues ay nomás se le apea\\ncon una felpa de palos-,\\ny después dicen que es malo\\nel gaucho si los pelea.\\nY el lomo le hinchan a golpes,\\ny le rompen la cabeza,\\ny luego con ligereza\\nansí lastimao y todo,\\nlo amarran codo con codo\\ny pa el cepo lo enderiezan.\\nAy comienzan sus desgracias\\nay principia el pericón;\\nporque no hay salvación,\\ny que usté quiera o no quiera\\nlo mandan a la frontera\\no lo echan a un batallón.\\n\\n11\\n\\n\\x0cAnsí empezaron mis males\\nlo mesmo que los de tantos\\nsi gustan... en otros cantos\\nles diré lo que he sufridodespués que uno está perdido\\nno lo salvan ni los santos.\\n\\n12\\n\\n\\x0cIII\\nTuve en mi pago en un tiempo\\nhijos, hacienda y mujer,\\npero empecé a padecer\\nme echaron a la frontera,\\n¡y qué iba a hallar al volver!\\nTan sólo hallé la tapera.\\nSosegao vivía en mi rancho\\ncomo el pájaro en su nidoallí mis hijos queridos\\niban creciendo a mi lao...\\nSólo queda al desgraciao\\nlamentar el bien perdido.\\nMi gala en las pulperías\\nera, cuando había más gente,\\nponerme medio caliente,\\npues cuando puntiao me encuentro,\\nme salen coplas de adentro\\ncomo agua de la virtiente.\\nCantando estaba una vez\\nen una gran diversión;\\ny aprovechó la ocasión\\ncomo quiso el Juez de Paz...\\nse presentó, y hay no más,\\nhizo una arriada en montón.\\nJuyeron los más matreros\\ny lograron escaparyo no quise dispararsoy manso- y no había por quémuy tranquilo me quedé\\ny ansí me dejé agarrar.\\n\\n13\\n\\n\\x0cAllí un gringo con un órgano\\ny una mona que bailaba\\nhaciéndonos reir estaba\\ncuando le tocó el arreo¡tan grande el gringo y tan feo!\\nlo viera cómo lloraba.\\nHasta un Inglés sangiador\\nque decía en la última guerra,\\nque él era de Inca-la-perra\\ny que no quería servir,\\ntuvo también que juir\\na guarecerse en la sierra.\\nNi los mirones salvaron\\nde esa arriada de mi florfue acoyarao el cantor\\ncon el gringo de la monaa uno sólo, por favor\\nlogró salvar la patrona.\\nFormaron un contingente\\ncon los que en el baile arriaroncon otros nos mesturaron\\nque habían agarrao tambiénLas cosas que aquí se ven\\nni los diablos las pensaron.\\nA mí el Juez me tomó entre ojos\\nen la última votaciónme le había hecho el remolón\\ny no me arrimé ese día;\\ny él dijo que yo servía\\na los de la esposición.\\nY ansí sufrí ese castigo\\ntal vez por culpas ajenasque sean malas o sean güenas\\nlas listas, siempre me escondoyo soy un gaucho redondo\\n\\n14\\n\\n\\x0cy esas cosas no me enllenan.\\nAl mandarnos nos hicieron\\nmás promesas que a un altarel Juez nos jue a ploclamar\\ny nos dijo muchas veces\\n«muchachos a los seis meses\\n»los van a ir a revelar».\\nYo llevé un moro de número,\\n¡sobresaliente el matucho!\\nCon él gané en Ayacucho,\\nmás plata que agua benditasiempre el gaucho necesita\\nun pingo pa fiarle un pucho-.\\nY cargué sin dar más güeltas\\ncon las prendas que tenía,\\njergas, poncho, cuanto había\\nen casa, tuito lo alcéa m'"
      ]
     },
     "execution_count": 5,
     "metadata": {},
     "output_type": "execute_result"
    }
   ],
   "source": [
    "# en article text se encuentra el texto de todo el libro\n",
    "texto[:10000]"
   ]
  },
  {
   "cell_type": "markdown",
   "metadata": {
    "id": "cP1JdiOIKQWi"
   },
   "source": [
    "### Elegir el tamaño del contexto\n",
    "\n",
    "En este caso, como el modelo de lenguaje es por caracteres, todo un gran corpus\n",
    "de texto puede ser considerado un documento en sí mismo y el tamaño de contexto\n",
    "puede ser elegido con más libertad en comparación a un modelo de lenguaje tokenizado por palabras y dividido en documentos más acotados."
   ]
  },
  {
   "cell_type": "code",
   "execution_count": 7,
   "metadata": {
    "id": "wumBNwdjJM3j"
   },
   "outputs": [],
   "source": [
    "# seleccionamos el tamaño de contexto\n",
    "max_context_size = 100"
   ]
  },
  {
   "cell_type": "code",
   "execution_count": 8,
   "metadata": {
    "id": "m5FeTaGvbDbw"
   },
   "outputs": [],
   "source": [
    "# Usaremos las utilidades de procesamiento de textos y secuencias de Keras\n",
    "from tensorflow.keras.utils import pad_sequences # se utilizará para padding"
   ]
  },
  {
   "cell_type": "code",
   "execution_count": 9,
   "metadata": {
    "id": "573Cg5n7VhWw"
   },
   "outputs": [],
   "source": [
    "# en este caso el vocabulario es el conjunto único de caracteres que existe en todo el texto\n",
    "chars_vocab = set(texto)"
   ]
  },
  {
   "cell_type": "code",
   "execution_count": 10,
   "metadata": {
    "id": "VwTK6xgLJd8q"
   },
   "outputs": [
    {
     "data": {
      "text/plain": [
       "80"
      ]
     },
     "execution_count": 10,
     "metadata": {},
     "output_type": "execute_result"
    }
   ],
   "source": [
    "# la longitud de vocabulario de caracteres es:\n",
    "len(chars_vocab)"
   ]
  },
  {
   "cell_type": "code",
   "execution_count": 11,
   "metadata": {
    "id": "2W0AeQjXV1Ou"
   },
   "outputs": [],
   "source": [
    "# Construimos los dicionarios que asignan índices a caracteres y viceversa.\n",
    "# El diccionario `char2idx` servirá como tokenizador.\n",
    "char2idx = {k: v for v,k in enumerate(chars_vocab)}\n",
    "idx2char = {v: k for k,v in char2idx.items()}"
   ]
  },
  {
   "cell_type": "markdown",
   "metadata": {
    "id": "2oIUjVU0LB0r"
   },
   "source": [
    "###  Tokenizar"
   ]
  },
  {
   "cell_type": "code",
   "execution_count": 13,
   "metadata": {
    "id": "h07G3srdJppo"
   },
   "outputs": [],
   "source": [
    "# tokenizamos el texto completo\n",
    "tokenized_text = [char2idx[ch] for ch in texto]"
   ]
  },
  {
   "cell_type": "code",
   "execution_count": 14,
   "metadata": {
    "id": "PwGVSKOiJ5bj"
   },
   "outputs": [
    {
     "data": {
      "text/plain": [
       "[52,\n",
       " 0,\n",
       " 73,\n",
       " 35,\n",
       " 53,\n",
       " 61,\n",
       " 63,\n",
       " 31,\n",
       " 22,\n",
       " 73,\n",
       " 75,\n",
       " 53,\n",
       " 5,\n",
       " 51,\n",
       " 66,\n",
       " 36,\n",
       " 73,\n",
       " 15,\n",
       " 19,\n",
       " 37,\n",
       " 5,\n",
       " 5,\n",
       " 22,\n",
       " 1,\n",
       " 20,\n",
       " 22,\n",
       " 46,\n",
       " 72,\n",
       " 73,\n",
       " 16,\n",
       " 37,\n",
       " 5,\n",
       " 36,\n",
       " 3,\n",
       " 36,\n",
       " 42,\n",
       " 37,\n",
       " 28,\n",
       " 1,\n",
       " 1,\n",
       " 11,\n",
       " 1,\n",
       " 1,\n",
       " 54,\n",
       " 8,\n",
       " 37,\n",
       " 6,\n",
       " 51,\n",
       " 22,\n",
       " 73,\n",
       " 36,\n",
       " 64,\n",
       " 58,\n",
       " 32,\n",
       " 73,\n",
       " 18,\n",
       " 11,\n",
       " 38,\n",
       " 4,\n",
       " 1,\n",
       " 8,\n",
       " 66,\n",
       " 51,\n",
       " 61,\n",
       " 0,\n",
       " 22,\n",
       " 29,\n",
       " 73,\n",
       " 52,\n",
       " 0,\n",
       " 73,\n",
       " 35,\n",
       " 53,\n",
       " 61,\n",
       " 63,\n",
       " 31,\n",
       " 22,\n",
       " 73,\n",
       " 75,\n",
       " 53,\n",
       " 5,\n",
       " 51,\n",
       " 66,\n",
       " 36,\n",
       " 73,\n",
       " 15,\n",
       " 19,\n",
       " 37,\n",
       " 5,\n",
       " 5,\n",
       " 22,\n",
       " 1,\n",
       " 10,\n",
       " 61,\n",
       " 51,\n",
       " 22,\n",
       " 5,\n",
       " 29,\n",
       " 73,\n",
       " 20,\n",
       " 22,\n",
       " 46,\n",
       " 72,\n",
       " 73,\n",
       " 16,\n",
       " 37,\n",
       " 5,\n",
       " 36,\n",
       " 3,\n",
       " 36,\n",
       " 42,\n",
       " 37,\n",
       " 28,\n",
       " 1,\n",
       " 52,\n",
       " 51,\n",
       " 19,\n",
       " 14,\n",
       " 61,\n",
       " 37,\n",
       " 51,\n",
       " 53,\n",
       " 46,\n",
       " 29,\n",
       " 73,\n",
       " 50,\n",
       " 22,\n",
       " 37,\n",
       " 46,\n",
       " 66,\n",
       " 53,\n",
       " 1,\n",
       " 52,\n",
       " 42,\n",
       " 19,\n",
       " 51,\n",
       " 22,\n",
       " 5,\n",
       " 29,\n",
       " 73,\n",
       " 52,\n",
       " 42,\n",
       " 61,\n",
       " 73,\n",
       " 25,\n",
       " 22,\n",
       " 30,\n",
       " 46,\n",
       " 69,\n",
       " 1,\n",
       " 15,\n",
       " 37,\n",
       " 63,\n",
       " 31,\n",
       " 53,\n",
       " 73,\n",
       " 42,\n",
       " 37,\n",
       " 73,\n",
       " 63,\n",
       " 5,\n",
       " 37,\n",
       " 53,\n",
       " 63,\n",
       " 19,\n",
       " 9,\n",
       " 36,\n",
       " 29,\n",
       " 73,\n",
       " 11,\n",
       " 40,\n",
       " 73,\n",
       " 42,\n",
       " 37,\n",
       " 73,\n",
       " 37,\n",
       " 36,\n",
       " 37,\n",
       " 5,\n",
       " 22,\n",
       " 73,\n",
       " 42,\n",
       " 37,\n",
       " 73,\n",
       " 47,\n",
       " 57,\n",
       " 11,\n",
       " 44,\n",
       " 1,\n",
       " 15,\n",
       " 37,\n",
       " 63,\n",
       " 31,\n",
       " 53,\n",
       " 73,\n",
       " 42,\n",
       " 37,\n",
       " 73,\n",
       " 58,\n",
       " 22,\n",
       " 42,\n",
       " 19,\n",
       " 26,\n",
       " 19,\n",
       " 63,\n",
       " 53,\n",
       " 63,\n",
       " 19,\n",
       " 9,\n",
       " 36,\n",
       " 29,\n",
       " 73,\n",
       " 11,\n",
       " 40,\n",
       " 73,\n",
       " 42,\n",
       " 37,\n",
       " 73,\n",
       " 37,\n",
       " 36,\n",
       " 37,\n",
       " 5,\n",
       " 22,\n",
       " 73,\n",
       " 42,\n",
       " 37,\n",
       " 73,\n",
       " 47,\n",
       " 57,\n",
       " 11,\n",
       " 44,\n",
       " 1,\n",
       " 52,\n",
       " 42,\n",
       " 19,\n",
       " 51,\n",
       " 53,\n",
       " 73,\n",
       " 51,\n",
       " 37,\n",
       " 6,\n",
       " 51,\n",
       " 22,\n",
       " 46,\n",
       " 32,\n",
       " 19,\n",
       " 36,\n",
       " 26,\n",
       " 22,\n",
       " 1,\n",
       " 75,\n",
       " 53,\n",
       " 19,\n",
       " 46,\n",
       " 22,\n",
       " 36,\n",
       " 73,\n",
       " 41,\n",
       " 53,\n",
       " 5,\n",
       " 5,\n",
       " 72,\n",
       " 37,\n",
       " 1,\n",
       " 63,\n",
       " 59,\n",
       " 73,\n",
       " 25,\n",
       " 53,\n",
       " 58,\n",
       " 53,\n",
       " 0,\n",
       " 27,\n",
       " 73,\n",
       " 18,\n",
       " 38,\n",
       " 1,\n",
       " 57,\n",
       " 4,\n",
       " 4,\n",
       " 40,\n",
       " 57,\n",
       " 73,\n",
       " 10,\n",
       " 0,\n",
       " 53,\n",
       " 69,\n",
       " 22,\n",
       " 5,\n",
       " 73,\n",
       " 49,\n",
       " 73,\n",
       " 75,\n",
       " 37,\n",
       " 36,\n",
       " 22,\n",
       " 5,\n",
       " 63,\n",
       " 53,\n",
       " 1,\n",
       " 67,\n",
       " 46,\n",
       " 0,\n",
       " 53,\n",
       " 46,\n",
       " 73,\n",
       " 12,\n",
       " 53,\n",
       " 0,\n",
       " 37,\n",
       " 53,\n",
       " 5,\n",
       " 37,\n",
       " 46,\n",
       " 1,\n",
       " 52,\n",
       " 46,\n",
       " 7,\n",
       " 53,\n",
       " 74,\n",
       " 53,\n",
       " 1,\n",
       " 1,\n",
       " 1,\n",
       " 1,\n",
       " 47,\n",
       " 1,\n",
       " 1,\n",
       " 54,\n",
       " 67,\n",
       " 1,\n",
       " 10,\n",
       " 14,\n",
       " 61,\n",
       " 66,\n",
       " 73,\n",
       " 58,\n",
       " 37,\n",
       " 73,\n",
       " 7,\n",
       " 22,\n",
       " 36,\n",
       " 77,\n",
       " 22,\n",
       " 73,\n",
       " 53,\n",
       " 73,\n",
       " 63,\n",
       " 53,\n",
       " 36,\n",
       " 51,\n",
       " 53,\n",
       " 5,\n",
       " 1,\n",
       " 53,\n",
       " 0,\n",
       " 73,\n",
       " 63,\n",
       " 22,\n",
       " 58,\n",
       " 7,\n",
       " 3,\n",
       " 46,\n",
       " 73,\n",
       " 42,\n",
       " 37,\n",
       " 73,\n",
       " 0,\n",
       " 53,\n",
       " 73,\n",
       " 23,\n",
       " 19,\n",
       " 77,\n",
       " 45,\n",
       " 37,\n",
       " 0,\n",
       " 53,\n",
       " 27,\n",
       " 1,\n",
       " 14,\n",
       " 61,\n",
       " 37,\n",
       " 73,\n",
       " 37,\n",
       " 0,\n",
       " 73,\n",
       " 31,\n",
       " 22,\n",
       " 58,\n",
       " 30,\n",
       " 5,\n",
       " 37,\n",
       " 73,\n",
       " 14,\n",
       " 61,\n",
       " 37,\n",
       " 73,\n",
       " 0,\n",
       " 22,\n",
       " 73,\n",
       " 42,\n",
       " 37,\n",
       " 46,\n",
       " 23,\n",
       " 37,\n",
       " 0,\n",
       " 53,\n",
       " 1,\n",
       " 61,\n",
       " 36,\n",
       " 53,\n",
       " 73,\n",
       " 7,\n",
       " 37,\n",
       " 36,\n",
       " 53,\n",
       " 73,\n",
       " 37,\n",
       " 46,\n",
       " 51,\n",
       " 5,\n",
       " 22,\n",
       " 5,\n",
       " 42,\n",
       " 19,\n",
       " 36,\n",
       " 53,\n",
       " 5,\n",
       " 19,\n",
       " 53,\n",
       " 27,\n",
       " 1,\n",
       " 63,\n",
       " 22,\n",
       " 58,\n",
       " 22,\n",
       " 73,\n",
       " 0,\n",
       " 53,\n",
       " 73,\n",
       " 53,\n",
       " 23,\n",
       " 37,\n",
       " 73,\n",
       " 46,\n",
       " 22,\n",
       " 0,\n",
       " 19,\n",
       " 51,\n",
       " 53,\n",
       " 5,\n",
       " 19,\n",
       " 53,\n",
       " 1,\n",
       " 63,\n",
       " 22,\n",
       " 36,\n",
       " 73,\n",
       " 37,\n",
       " 0,\n",
       " 73,\n",
       " 63,\n",
       " 53,\n",
       " 36,\n",
       " 51,\n",
       " 53,\n",
       " 5,\n",
       " 73,\n",
       " 46,\n",
       " 37,\n",
       " 73,\n",
       " 63,\n",
       " 22,\n",
       " 36,\n",
       " 46,\n",
       " 61,\n",
       " 37,\n",
       " 0,\n",
       " 53,\n",
       " 32,\n",
       " 1,\n",
       " 50,\n",
       " 19,\n",
       " 42,\n",
       " 22,\n",
       " 73,\n",
       " 53,\n",
       " 73,\n",
       " 0,\n",
       " 22,\n",
       " 46,\n",
       " 73,\n",
       " 39,\n",
       " 53,\n",
       " 36,\n",
       " 51,\n",
       " 22,\n",
       " 46,\n",
       " 73,\n",
       " 42,\n",
       " 37,\n",
       " 0,\n",
       " 73,\n",
       " 41,\n",
       " 19,\n",
       " 37,\n",
       " 0,\n",
       " 22,\n",
       " 1,\n",
       " 14,\n",
       " 61,\n",
       " 37,\n",
       " 73,\n",
       " 53,\n",
       " 69,\n",
       " 61,\n",
       " 42,\n",
       " 37,\n",
       " 36,\n",
       " 73,\n",
       " 58,\n",
       " 19,\n",
       " 73,\n",
       " 7,\n",
       " 37,\n",
       " 36,\n",
       " 46,\n",
       " 53,\n",
       " 58,\n",
       " 19,\n",
       " 37,\n",
       " 36,\n",
       " 51,\n",
       " 22,\n",
       " 27,\n",
       " 1,\n",
       " 0,\n",
       " 37,\n",
       " 46,\n",
       " 73,\n",
       " 7,\n",
       " 19,\n",
       " 42,\n",
       " 22,\n",
       " 73,\n",
       " 37,\n",
       " 36,\n",
       " 73,\n",
       " 37,\n",
       " 46,\n",
       " 51,\n",
       " 37,\n",
       " 73,\n",
       " 58,\n",
       " 22,\n",
       " 58,\n",
       " 37,\n",
       " 36,\n",
       " 51,\n",
       " 22,\n",
       " 1,\n",
       " 14,\n",
       " 61,\n",
       " 37,\n",
       " 73,\n",
       " 23,\n",
       " 22,\n",
       " 69,\n",
       " 73,\n",
       " 53,\n",
       " 73,\n",
       " 63,\n",
       " 53,\n",
       " 36,\n",
       " 51,\n",
       " 53,\n",
       " 5,\n",
       " 73,\n",
       " 58,\n",
       " 19,\n",
       " 73,\n",
       " 31,\n",
       " 19,\n",
       " 46,\n",
       " 51,\n",
       " 22,\n",
       " 5,\n",
       " 19,\n",
       " 53,\n",
       " 1,\n",
       " 58,\n",
       " 37,\n",
       " 73,\n",
       " 5,\n",
       " 37,\n",
       " 26,\n",
       " 5,\n",
       " 37,\n",
       " 46,\n",
       " 14,\n",
       " 61,\n",
       " 37,\n",
       " 36,\n",
       " 73,\n",
       " 0,\n",
       " 53,\n",
       " 73,\n",
       " 58,\n",
       " 37,\n",
       " 58,\n",
       " 22,\n",
       " 5,\n",
       " 19,\n",
       " 53,\n",
       " 1,\n",
       " 69,\n",
       " 73,\n",
       " 53,\n",
       " 63,\n",
       " 0,\n",
       " 53,\n",
       " 5,\n",
       " 37,\n",
       " 36,\n",
       " 73,\n",
       " 58,\n",
       " 19,\n",
       " 73,\n",
       " 37,\n",
       " 36,\n",
       " 51,\n",
       " 37,\n",
       " 36,\n",
       " 42,\n",
       " 19,\n",
       " 58,\n",
       " 19,\n",
       " 37,\n",
       " 36,\n",
       " 51,\n",
       " 22,\n",
       " 32,\n",
       " 1,\n",
       " 13,\n",
       " 37,\n",
       " 36,\n",
       " 77,\n",
       " 53,\n",
       " 36,\n",
       " 73,\n",
       " 39,\n",
       " 53,\n",
       " 36,\n",
       " 51,\n",
       " 22,\n",
       " 46,\n",
       " 73,\n",
       " 58,\n",
       " 19,\n",
       " 0,\n",
       " 53,\n",
       " 77,\n",
       " 5,\n",
       " 22,\n",
       " 46,\n",
       " 22,\n",
       " 46,\n",
       " 27,\n",
       " 1,\n",
       " 23,\n",
       " 37,\n",
       " 36,\n",
       " 77,\n",
       " 53,\n",
       " 36,\n",
       " 73,\n",
       " 51,\n",
       " 22,\n",
       " 42,\n",
       " 22,\n",
       " 46,\n",
       " 73,\n",
       " 37,\n",
       " 36,\n",
       " 73,\n",
       " 58,\n",
       " 19,\n",
       " 73,\n",
       " 53,\n",
       " 69,\n",
       " 61,\n",
       " 42,\n",
       " 53,\n",
       " 27,\n",
       " 1,\n",
       " 14,\n",
       " 61,\n",
       " 37,\n",
       " 73,\n",
       " 0,\n",
       " 53,\n",
       " 73,\n",
       " 0,\n",
       " 37,\n",
       " 36,\n",
       " 77,\n",
       " 61,\n",
       " 53,\n",
       " 73,\n",
       " 46,\n",
       " 37,\n",
       " 73,\n",
       " 58,\n",
       " 37,\n",
       " 73,\n",
       " 53,\n",
       " 74,\n",
       " 61,\n",
       " 42,\n",
       " 53,\n",
       " 1,\n",
       " 69,\n",
       " 73,\n",
       " 46,\n",
       " 37,\n",
       " 73,\n",
       " 58,\n",
       " 37,\n",
       " 73,\n",
       " 51,\n",
       " 61,\n",
       " 5,\n",
       " 30,\n",
       " 53,\n",
       " 73,\n",
       " 0,\n",
       " 53,\n",
       " 73,\n",
       " 23,\n",
       " 19,\n",
       " 46,\n",
       " 51,\n",
       " 53,\n",
       " 34,\n",
       " 1,\n",
       " 7,\n",
       " 19,\n",
       " 42,\n",
       " 22,\n",
       " 73,\n",
       " 53,\n",
       " 73,\n",
       " 58,\n",
       " 19,\n",
       " 73,\n",
       " 33,\n",
       " 19,\n",
       " 22,\n",
       " 46,\n",
       " 73,\n",
       " 14,\n",
       " 61,\n",
       " 37,\n",
       " 73,\n",
       " 58,\n",
       " 37,\n",
       " 73,\n",
       " 53,\n",
       " 46,\n",
       " 19,\n",
       " 46,\n",
       " 51,\n",
       " 53,\n",
       " 1,\n",
       " 37,\n",
       " 36,\n",
       " 73,\n",
       " 61,\n",
       " 36,\n",
       " 53,\n",
       " 73,\n",
       " 22,\n",
       " 63,\n",
       " 53,\n",
       " 46,\n",
       " 19,\n",
       " 9,\n",
       " 36,\n",
       " 73,\n",
       " 51,\n",
       " 53,\n",
       " 36,\n",
       " 73,\n",
       " 5,\n",
       " 61,\n",
       " 42,\n",
       " 53,\n",
       " 32,\n",
       " 1,\n",
       " 70,\n",
       " 22,\n",
       " 73,\n",
       " 31,\n",
       " 37,\n",
       " 73,\n",
       " 23,\n",
       " 19,\n",
       " 46,\n",
       " 51,\n",
       " 22,\n",
       " 73,\n",
       " 58,\n",
       " 61,\n",
       " 63,\n",
       " 31,\n",
       " 22,\n",
       " 46,\n",
       " 73,\n",
       " 63,\n",
       " 53,\n",
       " 36,\n",
       " 51,\n",
       " 22,\n",
       " 5,\n",
       " 37,\n",
       " 46,\n",
       " 27,\n",
       " 1,\n",
       " 63,\n",
       " 22,\n",
       " 36,\n",
       " 73,\n",
       " 26,\n",
       " 53,\n",
       " 58,\n",
       " 53,\n",
       " 46,\n",
       " 73,\n",
       " 30,\n",
       " 19,\n",
       " 37,\n",
       " 36,\n",
       " 73,\n",
       " 22,\n",
       " 51,\n",
       " 37,\n",
       " 36,\n",
       " 19,\n",
       " 42,\n",
       " 53,\n",
       " 46,\n",
       " 27,\n",
       " 1,\n",
       " 69,\n",
       " 73,\n",
       " 14,\n",
       " 61,\n",
       " 37,\n",
       " 73,\n",
       " 42,\n",
       " 37,\n",
       " 46,\n",
       " 7,\n",
       " 61,\n",
       " 72,\n",
       " 46,\n",
       " 73,\n",
       " 42,\n",
       " 37,\n",
       " 73,\n",
       " 53,\n",
       " 0,\n",
       " 14,\n",
       " 61,\n",
       " 19,\n",
       " 5,\n",
       " 19,\n",
       " 42,\n",
       " 53,\n",
       " 46,\n",
       " 1,\n",
       " 36,\n",
       " 22,\n",
       " 73,\n",
       " 0,\n",
       " 53,\n",
       " 46,\n",
       " 73,\n",
       " 14,\n",
       " 61,\n",
       " 19,\n",
       " 37,\n",
       " 5,\n",
       " 37,\n",
       " 36,\n",
       " 73,\n",
       " 46,\n",
       " 61,\n",
       " 46,\n",
       " 51,\n",
       " 37,\n",
       " 36,\n",
       " 51,\n",
       " 53,\n",
       " 5,\n",
       " 7,\n",
       " 53,\n",
       " 5,\n",
       " 37,\n",
       " 63,\n",
       " 37,\n",
       " 73,\n",
       " 14,\n",
       " 61,\n",
       " 37,\n",
       " 73,\n",
       " 46,\n",
       " 19,\n",
       " 36,\n",
       " 73,\n",
       " 0,\n",
       " 53,\n",
       " 5,\n",
       " 77,\n",
       " 53,\n",
       " 5,\n",
       " 1,\n",
       " 46,\n",
       " 37,\n",
       " 73,\n",
       " 63,\n",
       " 53,\n",
       " 36,\n",
       " 46,\n",
       " 53,\n",
       " 5,\n",
       " 22,\n",
       " 36,\n",
       " 73,\n",
       " 37,\n",
       " 36,\n",
       " 73,\n",
       " 7,\n",
       " 53,\n",
       " 5,\n",
       " 51,\n",
       " 19,\n",
       " 42,\n",
       " 53,\n",
       " 46,\n",
       " 32,\n",
       " 1,\n",
       " 75,\n",
       " 53,\n",
       " 46,\n",
       " 73,\n",
       " 53,\n",
       " 36,\n",
       " 42,\n",
       " 37,\n",
       " 73,\n",
       " 22,\n",
       " 51,\n",
       " 5,\n",
       " 22,\n",
       " 73,\n",
       " 63,\n",
       " 5,\n",
       " 19,\n",
       " 22,\n",
       " 0,\n",
       " 0,\n",
       " 22,\n",
       " 73,\n",
       " 7,\n",
       " 53,\n",
       " 46,\n",
       " 53,\n",
       " 1,\n",
       " 75,\n",
       " 53,\n",
       " 5,\n",
       " 51,\n",
       " 66,\n",
       " 36,\n",
       " 73,\n",
       " 15,\n",
       " 19,\n",
       " 37,\n",
       " 5,\n",
       " 5,\n",
       " 22,\n",
       " 73,\n",
       " 31,\n",
       " 53,\n",
       " 73,\n",
       " 42,\n",
       " 37,\n",
       " 73,\n",
       " 7]"
      ]
     },
     "execution_count": 14,
     "metadata": {},
     "output_type": "execute_result"
    }
   ],
   "source": [
    "tokenized_text[:1000]"
   ]
  },
  {
   "cell_type": "markdown",
   "metadata": {
    "id": "pfpYcaypKcI9"
   },
   "source": [
    "### Organizando y estructurando el dataset"
   ]
  },
  {
   "cell_type": "code",
   "execution_count": 27,
   "metadata": {
    "id": "WSSmg9jtKP0T"
   },
   "outputs": [],
   "source": [
    "# separaremos el dataset entre entrenamiento y validación.\n",
    "# `p_val` será la proporción del corpus que se reservará para validación\n",
    "# `num_val` es la cantidad de secuencias de tamaño `max_context_size` que se usará en validación\n",
    "p_val = 0.1\n",
    "num_val = int(np.ceil(len(tokenized_text)*p_val/max_context_size))"
   ]
  },
  {
   "cell_type": "code",
   "execution_count": 29,
   "metadata": {
    "id": "b7dCpGrdKll0"
   },
   "outputs": [],
   "source": [
    "# separamos la porción de texto utilizada en entrenamiento de la de validación.\n",
    "train_text = tokenized_text[:-num_val*max_context_size]\n",
    "val_text = tokenized_text[-num_val*max_context_size:]"
   ]
  },
  {
   "cell_type": "code",
   "execution_count": 31,
   "metadata": {
    "id": "NmxQdxl8LRCg"
   },
   "outputs": [],
   "source": [
    "tokenized_sentences_val = [val_text[init*max_context_size:init*(max_context_size+1)] for init in range(num_val)]"
   ]
  },
  {
   "cell_type": "code",
   "execution_count": 33,
   "metadata": {
    "id": "_gyFT9koLqDm"
   },
   "outputs": [],
   "source": [
    "tokenized_sentences_train = [train_text[init:init+max_context_size] for init in range(len(train_text)-max_context_size+1)]"
   ]
  },
  {
   "cell_type": "code",
   "execution_count": 35,
   "metadata": {
    "id": "oVNqmmLRodT0"
   },
   "outputs": [],
   "source": [
    "X = np.array(tokenized_sentences_train[:-1])\n",
    "y = np.array(tokenized_sentences_train[1:])"
   ]
  },
  {
   "cell_type": "markdown",
   "metadata": {
    "id": "Vken7O4ETsAJ"
   },
   "source": [
    "Nótese que estamos estructurando el problema de aprendizaje como *many-to-many*:\n",
    "\n",
    "Entrada: secuencia de tokens [$x_0$, $x_1$, ..., $x_N$]\n",
    "\n",
    "Target: secuencia de tokens [$x_1$, $x_2$, ..., $x_{N+1}$]\n",
    "\n",
    "De manera que la red tiene que aprender que su salida deben ser los tokens desplazados en una posición y un nuevo token predicho (el N+1).\n",
    "\n",
    "La ventaja de estructurar el aprendizaje de esta manera es que para cada token de target se propaga una señal de gradiente por el grafo de cómputo recurrente, que es mejor que estructurar el problema como *many-to-one* en donde sólo una señal de gradiente se propaga."
   ]
  },
  {
   "cell_type": "markdown",
   "metadata": {
    "id": "l3iPTx-UJl6r"
   },
   "source": [
    "En este punto tenemos en la variable `tokenized_sentences` los versos tokenizados. Vamos a quedarnos con un conjunto de validación que utilizaremos para medir la calidad de la generación de secuencias con la métrica de Perplejidad."
   ]
  },
  {
   "cell_type": "code",
   "execution_count": 39,
   "metadata": {
    "id": "KFAyA4zCWE-5"
   },
   "outputs": [
    {
     "data": {
      "text/plain": [
       "(54603, 100)"
      ]
     },
     "execution_count": 39,
     "metadata": {},
     "output_type": "execute_result"
    }
   ],
   "source": [
    "X.shape"
   ]
  },
  {
   "cell_type": "code",
   "execution_count": 41,
   "metadata": {
    "id": "qcKRl70HFTzG"
   },
   "outputs": [
    {
     "data": {
      "text/plain": [
       "array([52,  0, 73, 35, 53, 61, 63, 31, 22, 73])"
      ]
     },
     "execution_count": 41,
     "metadata": {},
     "output_type": "execute_result"
    }
   ],
   "source": [
    "X[0,:10]"
   ]
  },
  {
   "cell_type": "code",
   "execution_count": 43,
   "metadata": {
    "id": "TVpLCKSZFXZO"
   },
   "outputs": [
    {
     "data": {
      "text/plain": [
       "array([ 0, 73, 35, 53, 61, 63, 31, 22, 73, 75])"
      ]
     },
     "execution_count": 43,
     "metadata": {},
     "output_type": "execute_result"
    }
   ],
   "source": [
    "y[0,:10]"
   ]
  },
  {
   "cell_type": "code",
   "execution_count": 45,
   "metadata": {
    "id": "wOFCR-KqbW1N"
   },
   "outputs": [
    {
     "data": {
      "text/plain": [
       "80"
      ]
     },
     "execution_count": 45,
     "metadata": {},
     "output_type": "execute_result"
    }
   ],
   "source": [
    "vocab_size = len(chars_vocab)\n",
    "vocab_size"
   ]
  },
  {
   "cell_type": "markdown",
   "metadata": {
    "id": "tnnjdAQ5UAEJ"
   },
   "source": [
    "# Definiendo el modelo SimpleRNN"
   ]
  },
  {
   "cell_type": "code",
   "execution_count": 48,
   "metadata": {
    "id": "rkMCZvmhrQz4"
   },
   "outputs": [],
   "source": [
    "from keras.layers import Input, TimeDistributed, CategoryEncoding, SimpleRNN, Dense\n",
    "from keras.models import Model, Sequential"
   ]
  },
  {
   "cell_type": "markdown",
   "metadata": {
    "id": "wgz7VKwTUbj6"
   },
   "source": [
    "El modelo que se propone como ejemplo consume los índices de los tokens y los transforma en vectores OHE (en este caso no entrenamos una capa de embedding para caracteres). Esa transformación se logra combinando las capas `CategoryEncoding` que transforma a índices a vectores OHE y `TimeDistributed` que aplica la capa a lo largo de la dimensión \"temporal\" de la secuencia."
   ]
  },
  {
   "cell_type": "code",
   "execution_count": 51,
   "metadata": {
    "id": "Zd2OkfQYs2Q7"
   },
   "outputs": [
    {
     "name": "stderr",
     "output_type": "stream",
     "text": [
      "C:\\Users\\Chelo\\anaconda3\\Lib\\site-packages\\keras\\src\\layers\\core\\wrapper.py:27: UserWarning: Do not pass an `input_shape`/`input_dim` argument to a layer. When using Sequential models, prefer using an `Input(shape)` object as the first layer in the model instead.\n",
      "  super().__init__(**kwargs)\n"
     ]
    },
    {
     "data": {
      "text/html": [
       "<pre style=\"white-space:pre;overflow-x:auto;line-height:normal;font-family:Menlo,'DejaVu Sans Mono',consolas,'Courier New',monospace\"><span style=\"font-weight: bold\">Model: \"sequential\"</span>\n",
       "</pre>\n"
      ],
      "text/plain": [
       "\u001b[1mModel: \"sequential\"\u001b[0m\n"
      ]
     },
     "metadata": {},
     "output_type": "display_data"
    },
    {
     "data": {
      "text/html": [
       "<pre style=\"white-space:pre;overflow-x:auto;line-height:normal;font-family:Menlo,'DejaVu Sans Mono',consolas,'Courier New',monospace\">┏━━━━━━━━━━━━━━━━━━━━━━━━━━━━━━━━━┳━━━━━━━━━━━━━━━━━━━━━━━━┳━━━━━━━━━━━━━━━┓\n",
       "┃<span style=\"font-weight: bold\"> Layer (type)                    </span>┃<span style=\"font-weight: bold\"> Output Shape           </span>┃<span style=\"font-weight: bold\">       Param # </span>┃\n",
       "┡━━━━━━━━━━━━━━━━━━━━━━━━━━━━━━━━━╇━━━━━━━━━━━━━━━━━━━━━━━━╇━━━━━━━━━━━━━━━┩\n",
       "│ time_distributed                │ (<span style=\"color: #00d7ff; text-decoration-color: #00d7ff\">None</span>, <span style=\"color: #00d7ff; text-decoration-color: #00d7ff\">None</span>, <span style=\"color: #00af00; text-decoration-color: #00af00\">80</span>)       │             <span style=\"color: #00af00; text-decoration-color: #00af00\">0</span> │\n",
       "│ (<span style=\"color: #0087ff; text-decoration-color: #0087ff\">TimeDistributed</span>)               │                        │               │\n",
       "├─────────────────────────────────┼────────────────────────┼───────────────┤\n",
       "│ simple_rnn (<span style=\"color: #0087ff; text-decoration-color: #0087ff\">SimpleRNN</span>)          │ (<span style=\"color: #00d7ff; text-decoration-color: #00d7ff\">None</span>, <span style=\"color: #00d7ff; text-decoration-color: #00d7ff\">None</span>, <span style=\"color: #00af00; text-decoration-color: #00af00\">200</span>)      │        <span style=\"color: #00af00; text-decoration-color: #00af00\">56,200</span> │\n",
       "├─────────────────────────────────┼────────────────────────┼───────────────┤\n",
       "│ dense (<span style=\"color: #0087ff; text-decoration-color: #0087ff\">Dense</span>)                   │ (<span style=\"color: #00d7ff; text-decoration-color: #00d7ff\">None</span>, <span style=\"color: #00d7ff; text-decoration-color: #00d7ff\">None</span>, <span style=\"color: #00af00; text-decoration-color: #00af00\">80</span>)       │        <span style=\"color: #00af00; text-decoration-color: #00af00\">16,080</span> │\n",
       "└─────────────────────────────────┴────────────────────────┴───────────────┘\n",
       "</pre>\n"
      ],
      "text/plain": [
       "┏━━━━━━━━━━━━━━━━━━━━━━━━━━━━━━━━━┳━━━━━━━━━━━━━━━━━━━━━━━━┳━━━━━━━━━━━━━━━┓\n",
       "┃\u001b[1m \u001b[0m\u001b[1mLayer (type)                   \u001b[0m\u001b[1m \u001b[0m┃\u001b[1m \u001b[0m\u001b[1mOutput Shape          \u001b[0m\u001b[1m \u001b[0m┃\u001b[1m \u001b[0m\u001b[1m      Param #\u001b[0m\u001b[1m \u001b[0m┃\n",
       "┡━━━━━━━━━━━━━━━━━━━━━━━━━━━━━━━━━╇━━━━━━━━━━━━━━━━━━━━━━━━╇━━━━━━━━━━━━━━━┩\n",
       "│ time_distributed                │ (\u001b[38;5;45mNone\u001b[0m, \u001b[38;5;45mNone\u001b[0m, \u001b[38;5;34m80\u001b[0m)       │             \u001b[38;5;34m0\u001b[0m │\n",
       "│ (\u001b[38;5;33mTimeDistributed\u001b[0m)               │                        │               │\n",
       "├─────────────────────────────────┼────────────────────────┼───────────────┤\n",
       "│ simple_rnn (\u001b[38;5;33mSimpleRNN\u001b[0m)          │ (\u001b[38;5;45mNone\u001b[0m, \u001b[38;5;45mNone\u001b[0m, \u001b[38;5;34m200\u001b[0m)      │        \u001b[38;5;34m56,200\u001b[0m │\n",
       "├─────────────────────────────────┼────────────────────────┼───────────────┤\n",
       "│ dense (\u001b[38;5;33mDense\u001b[0m)                   │ (\u001b[38;5;45mNone\u001b[0m, \u001b[38;5;45mNone\u001b[0m, \u001b[38;5;34m80\u001b[0m)       │        \u001b[38;5;34m16,080\u001b[0m │\n",
       "└─────────────────────────────────┴────────────────────────┴───────────────┘\n"
      ]
     },
     "metadata": {},
     "output_type": "display_data"
    },
    {
     "data": {
      "text/html": [
       "<pre style=\"white-space:pre;overflow-x:auto;line-height:normal;font-family:Menlo,'DejaVu Sans Mono',consolas,'Courier New',monospace\"><span style=\"font-weight: bold\"> Total params: </span><span style=\"color: #00af00; text-decoration-color: #00af00\">72,280</span> (282.34 KB)\n",
       "</pre>\n"
      ],
      "text/plain": [
       "\u001b[1m Total params: \u001b[0m\u001b[38;5;34m72,280\u001b[0m (282.34 KB)\n"
      ]
     },
     "metadata": {},
     "output_type": "display_data"
    },
    {
     "data": {
      "text/html": [
       "<pre style=\"white-space:pre;overflow-x:auto;line-height:normal;font-family:Menlo,'DejaVu Sans Mono',consolas,'Courier New',monospace\"><span style=\"font-weight: bold\"> Trainable params: </span><span style=\"color: #00af00; text-decoration-color: #00af00\">72,280</span> (282.34 KB)\n",
       "</pre>\n"
      ],
      "text/plain": [
       "\u001b[1m Trainable params: \u001b[0m\u001b[38;5;34m72,280\u001b[0m (282.34 KB)\n"
      ]
     },
     "metadata": {},
     "output_type": "display_data"
    },
    {
     "data": {
      "text/html": [
       "<pre style=\"white-space:pre;overflow-x:auto;line-height:normal;font-family:Menlo,'DejaVu Sans Mono',consolas,'Courier New',monospace\"><span style=\"font-weight: bold\"> Non-trainable params: </span><span style=\"color: #00af00; text-decoration-color: #00af00\">0</span> (0.00 B)\n",
       "</pre>\n"
      ],
      "text/plain": [
       "\u001b[1m Non-trainable params: \u001b[0m\u001b[38;5;34m0\u001b[0m (0.00 B)\n"
      ]
     },
     "metadata": {},
     "output_type": "display_data"
    }
   ],
   "source": [
    "model = Sequential()\n",
    "\n",
    "model.add(TimeDistributed(CategoryEncoding(num_tokens=vocab_size, output_mode = \"one_hot\"),input_shape=(None,1)))\n",
    "model.add(SimpleRNN(200, return_sequences=True, dropout=0.1, recurrent_dropout=0.1 ))\n",
    "model.add(Dense(vocab_size, activation='softmax'))\n",
    "model.compile(loss='sparse_categorical_crossentropy', optimizer='rmsprop')\n",
    "\n",
    "model.summary()"
   ]
  },
  {
   "cell_type": "markdown",
   "metadata": {
    "id": "GmJWNyxQwfCE"
   },
   "source": [
    "\n",
    "### Definir el modelo"
   ]
  },
  {
   "cell_type": "markdown",
   "metadata": {
    "id": "YWK3z85sQfUe"
   },
   "source": [
    "Dado que por el momento no hay implementaciones adecuadas de la perplejidad que puedan operar en tiempo de entrenamiento, armaremos un Callback *ad-hoc* que la calcule en cada epoch.\n",
    "\n",
    "**Nota**: un Callback es una rutina gatillada por algún evento, son muy útiles para relevar datos en diferentes momentos del desarrollo del modelo. En este caso queremos hacer un cálculo cada vez que termina una epoch de entrenamiento."
   ]
  },
  {
   "cell_type": "code",
   "execution_count": 55,
   "metadata": {
    "id": "zUHX3r5JD-MG"
   },
   "outputs": [],
   "source": [
    "class PplCallback(keras.callbacks.Callback):\n",
    "\n",
    "    '''\n",
    "    Este callback es una solución ad-hoc para calcular al final de cada epoch de\n",
    "    entrenamiento la métrica de Perplejidad sobre un conjunto de datos de validación.\n",
    "    La perplejidad es una métrica cuantitativa para evaluar la calidad de la generación de secuencias.\n",
    "    Además implementa la finalización del entrenamiento (Early Stopping)\n",
    "    si la perplejidad no mejora después de `patience` epochs.\n",
    "    '''\n",
    "\n",
    "    def __init__(self, val_data, history_ppl,patience=5):\n",
    "      # El callback lo inicializamos con secuencias de validación sobre las cuales\n",
    "      # mediremos la perplejidad\n",
    "      self.val_data = val_data\n",
    "\n",
    "      self.target = []\n",
    "      self.padded = []\n",
    "\n",
    "      count = 0\n",
    "      self.info = []\n",
    "      self.min_score = np.inf\n",
    "      self.patience_counter = 0\n",
    "      self.patience = patience\n",
    "\n",
    "      # nos movemos en todas las secuencias de los datos de validación\n",
    "      for seq in self.val_data:\n",
    "\n",
    "        len_seq = len(seq)\n",
    "        # armamos todas las subsecuencias\n",
    "        subseq = [seq[:i] for i in range(1,len_seq)]\n",
    "        self.target.extend([seq[i] for i in range(1,len_seq)])\n",
    "\n",
    "        if len(subseq)!=0:\n",
    "\n",
    "          self.padded.append(pad_sequences(subseq, maxlen=max_context_size, padding='pre'))\n",
    "\n",
    "          self.info.append((count,count+len_seq))\n",
    "          count += len_seq\n",
    "\n",
    "      self.padded = np.vstack(self.padded)\n",
    "\n",
    "\n",
    "    def on_epoch_end(self, epoch, logs=None):\n",
    "\n",
    "        # en `scores` iremos guardando la perplejidad de cada secuencia\n",
    "        scores = []\n",
    "\n",
    "        predictions = self.model.predict(self.padded,verbose=0)\n",
    "\n",
    "        # para cada secuencia de validación\n",
    "        for start,end in self.info:\n",
    "\n",
    "          # en `probs` iremos guardando las probabilidades de los términos target\n",
    "          probs = [predictions[idx_seq,-1,idx_vocab] for idx_seq, idx_vocab in zip(range(start,end),self.target[start:end])]\n",
    "\n",
    "          # calculamos la perplejidad por medio de logaritmos\n",
    "          scores.append(np.exp(-np.sum(np.log(probs))/(end-start)))\n",
    "\n",
    "        # promediamos todos los scores e imprimimos el valor promedio\n",
    "        current_score = np.mean(scores)\n",
    "        history_ppl.append(current_score)\n",
    "        print(f'\\n mean perplexity: {current_score} \\n')\n",
    "\n",
    "        # chequeamos si tenemos que detener el entrenamiento\n",
    "        if current_score < self.min_score:\n",
    "          self.min_score = current_score\n",
    "          self.model.save(\"my_model.keras\")\n",
    "          print(\"Saved new model!\")\n",
    "          self.patience_counter = 0\n",
    "        else:\n",
    "          self.patience_counter += 1\n",
    "          if self.patience_counter == self.patience:\n",
    "            print(\"Stopping training...\")\n",
    "            self.model.stop_training = True\n"
   ]
  },
  {
   "cell_type": "markdown",
   "metadata": {
    "id": "8HBZIwR0gruA"
   },
   "source": [
    "### Entrenamiento"
   ]
  },
  {
   "cell_type": "code",
   "execution_count": 58,
   "metadata": {
    "id": "oQq1PHDkxDvN"
   },
   "outputs": [
    {
     "name": "stdout",
     "output_type": "stream",
     "text": [
      "Epoch 1/20\n",
      "\u001b[1m213/214\u001b[0m \u001b[32m━━━━━━━━━━━━━━━━━━━\u001b[0m\u001b[37m━\u001b[0m \u001b[1m0s\u001b[0m 94ms/step - loss: 3.0229\n",
      " mean perplexity: 10.09808671061982 \n",
      "\n",
      "Saved new model!\n",
      "\u001b[1m214/214\u001b[0m \u001b[32m━━━━━━━━━━━━━━━━━━━━\u001b[0m\u001b[37m\u001b[0m \u001b[1m31s\u001b[0m 117ms/step - loss: 3.0200\n",
      "Epoch 2/20\n",
      "\u001b[1m213/214\u001b[0m \u001b[32m━━━━━━━━━━━━━━━━━━━\u001b[0m\u001b[37m━\u001b[0m \u001b[1m0s\u001b[0m 96ms/step - loss: 2.2931\n",
      " mean perplexity: 9.569748756413999 \n",
      "\n",
      "Saved new model!\n",
      "\u001b[1m214/214\u001b[0m \u001b[32m━━━━━━━━━━━━━━━━━━━━\u001b[0m\u001b[37m\u001b[0m \u001b[1m21s\u001b[0m 98ms/step - loss: 2.2927\n",
      "Epoch 3/20\n",
      "\u001b[1m213/214\u001b[0m \u001b[32m━━━━━━━━━━━━━━━━━━━\u001b[0m\u001b[37m━\u001b[0m \u001b[1m0s\u001b[0m 93ms/step - loss: 2.1701\n",
      " mean perplexity: 9.550679786616875 \n",
      "\n",
      "Saved new model!\n",
      "\u001b[1m214/214\u001b[0m \u001b[32m━━━━━━━━━━━━━━━━━━━━\u001b[0m\u001b[37m\u001b[0m \u001b[1m20s\u001b[0m 95ms/step - loss: 2.1699\n",
      "Epoch 4/20\n",
      "\u001b[1m213/214\u001b[0m \u001b[32m━━━━━━━━━━━━━━━━━━━\u001b[0m\u001b[37m━\u001b[0m \u001b[1m0s\u001b[0m 93ms/step - loss: 2.1005\n",
      " mean perplexity: 9.584416771421365 \n",
      "\n",
      "\u001b[1m214/214\u001b[0m \u001b[32m━━━━━━━━━━━━━━━━━━━━\u001b[0m\u001b[37m\u001b[0m \u001b[1m20s\u001b[0m 95ms/step - loss: 2.1004\n",
      "Epoch 5/20\n",
      "\u001b[1m213/214\u001b[0m \u001b[32m━━━━━━━━━━━━━━━━━━━\u001b[0m\u001b[37m━\u001b[0m \u001b[1m0s\u001b[0m 96ms/step - loss: 2.0414\n",
      " mean perplexity: 9.669680027325011 \n",
      "\n",
      "\u001b[1m214/214\u001b[0m \u001b[32m━━━━━━━━━━━━━━━━━━━━\u001b[0m\u001b[37m\u001b[0m \u001b[1m21s\u001b[0m 98ms/step - loss: 2.0413\n",
      "Epoch 6/20\n",
      "\u001b[1m213/214\u001b[0m \u001b[32m━━━━━━━━━━━━━━━━━━━\u001b[0m\u001b[37m━\u001b[0m \u001b[1m0s\u001b[0m 93ms/step - loss: 1.9898\n",
      " mean perplexity: 9.165449870367937 \n",
      "\n",
      "Saved new model!\n",
      "\u001b[1m214/214\u001b[0m \u001b[32m━━━━━━━━━━━━━━━━━━━━\u001b[0m\u001b[37m\u001b[0m \u001b[1m21s\u001b[0m 97ms/step - loss: 1.9897\n",
      "Epoch 7/20\n",
      "\u001b[1m213/214\u001b[0m \u001b[32m━━━━━━━━━━━━━━━━━━━\u001b[0m\u001b[37m━\u001b[0m \u001b[1m0s\u001b[0m 93ms/step - loss: 1.9467\n",
      " mean perplexity: 9.270883966459888 \n",
      "\n",
      "\u001b[1m214/214\u001b[0m \u001b[32m━━━━━━━━━━━━━━━━━━━━\u001b[0m\u001b[37m\u001b[0m \u001b[1m20s\u001b[0m 95ms/step - loss: 1.9466\n",
      "Epoch 8/20\n",
      "\u001b[1m213/214\u001b[0m \u001b[32m━━━━━━━━━━━━━━━━━━━\u001b[0m\u001b[37m━\u001b[0m \u001b[1m0s\u001b[0m 96ms/step - loss: 1.9069\n",
      " mean perplexity: 9.047131303183571 \n",
      "\n",
      "Saved new model!\n",
      "\u001b[1m214/214\u001b[0m \u001b[32m━━━━━━━━━━━━━━━━━━━━\u001b[0m\u001b[37m\u001b[0m \u001b[1m21s\u001b[0m 98ms/step - loss: 1.9068\n",
      "Epoch 9/20\n",
      "\u001b[1m213/214\u001b[0m \u001b[32m━━━━━━━━━━━━━━━━━━━\u001b[0m\u001b[37m━\u001b[0m \u001b[1m0s\u001b[0m 96ms/step - loss: 1.8778\n",
      " mean perplexity: 8.953063631793995 \n",
      "\n",
      "Saved new model!\n",
      "\u001b[1m214/214\u001b[0m \u001b[32m━━━━━━━━━━━━━━━━━━━━\u001b[0m\u001b[37m\u001b[0m \u001b[1m21s\u001b[0m 99ms/step - loss: 1.8778\n",
      "Epoch 10/20\n",
      "\u001b[1m213/214\u001b[0m \u001b[32m━━━━━━━━━━━━━━━━━━━\u001b[0m\u001b[37m━\u001b[0m \u001b[1m0s\u001b[0m 95ms/step - loss: 1.8496\n",
      " mean perplexity: 8.65993186857964 \n",
      "\n",
      "Saved new model!\n",
      "\u001b[1m214/214\u001b[0m \u001b[32m━━━━━━━━━━━━━━━━━━━━\u001b[0m\u001b[37m\u001b[0m \u001b[1m21s\u001b[0m 98ms/step - loss: 1.8495\n",
      "Epoch 11/20\n",
      "\u001b[1m213/214\u001b[0m \u001b[32m━━━━━━━━━━━━━━━━━━━\u001b[0m\u001b[37m━\u001b[0m \u001b[1m0s\u001b[0m 97ms/step - loss: 1.8232\n",
      " mean perplexity: 8.826674862592453 \n",
      "\n",
      "\u001b[1m214/214\u001b[0m \u001b[32m━━━━━━━━━━━━━━━━━━━━\u001b[0m\u001b[37m\u001b[0m \u001b[1m21s\u001b[0m 100ms/step - loss: 1.8231\n",
      "Epoch 12/20\n",
      "\u001b[1m213/214\u001b[0m \u001b[32m━━━━━━━━━━━━━━━━━━━\u001b[0m\u001b[37m━\u001b[0m \u001b[1m0s\u001b[0m 87ms/step - loss: 1.8006\n",
      " mean perplexity: 9.082711953416949 \n",
      "\n",
      "\u001b[1m214/214\u001b[0m \u001b[32m━━━━━━━━━━━━━━━━━━━━\u001b[0m\u001b[37m\u001b[0m \u001b[1m19s\u001b[0m 90ms/step - loss: 1.8006\n",
      "Epoch 13/20\n",
      "\u001b[1m213/214\u001b[0m \u001b[32m━━━━━━━━━━━━━━━━━━━\u001b[0m\u001b[37m━\u001b[0m \u001b[1m0s\u001b[0m 87ms/step - loss: 1.7817\n",
      " mean perplexity: 9.221471373440044 \n",
      "\n",
      "\u001b[1m214/214\u001b[0m \u001b[32m━━━━━━━━━━━━━━━━━━━━\u001b[0m\u001b[37m\u001b[0m \u001b[1m19s\u001b[0m 89ms/step - loss: 1.7817\n",
      "Epoch 14/20\n",
      "\u001b[1m213/214\u001b[0m \u001b[32m━━━━━━━━━━━━━━━━━━━\u001b[0m\u001b[37m━\u001b[0m \u001b[1m0s\u001b[0m 87ms/step - loss: 1.7641\n",
      " mean perplexity: 8.895374013097383 \n",
      "\n",
      "\u001b[1m214/214\u001b[0m \u001b[32m━━━━━━━━━━━━━━━━━━━━\u001b[0m\u001b[37m\u001b[0m \u001b[1m19s\u001b[0m 89ms/step - loss: 1.7641\n",
      "Epoch 15/20\n",
      "\u001b[1m213/214\u001b[0m \u001b[32m━━━━━━━━━━━━━━━━━━━\u001b[0m\u001b[37m━\u001b[0m \u001b[1m0s\u001b[0m 91ms/step - loss: 1.7489\n",
      " mean perplexity: 8.991006440962083 \n",
      "\n",
      "Stopping training...\n",
      "\u001b[1m214/214\u001b[0m \u001b[32m━━━━━━━━━━━━━━━━━━━━\u001b[0m\u001b[37m\u001b[0m \u001b[1m20s\u001b[0m 94ms/step - loss: 1.7488\n"
     ]
    }
   ],
   "source": [
    "# fiteamos, nótese el agregado del callback con su inicialización. El batch_size lo podemos seleccionar a mano\n",
    "# en general, lo mejor es escoger el batch más grande posible que minimice el tiempo de cada época.\n",
    "# En la variable `history_ppl` se guardarán los valores de perplejidad para cada época.\n",
    "history_ppl = []\n",
    "hist = model.fit(X, y, epochs=20, callbacks=[PplCallback(tokenized_sentences_val,history_ppl)], batch_size=256)"
   ]
  },
  {
   "cell_type": "code",
   "execution_count": 60,
   "metadata": {
    "id": "K30JHB3Dv-mx"
   },
   "outputs": [
    {
     "data": {
      "image/png": "[encoded data removed]",
      "text/plain": [
       "<Figure size 640x480 with 1 Axes>"
      ]
     },
     "metadata": {},
     "output_type": "display_data"
    }
   ],
   "source": [
    "import matplotlib.pyplot as plt\n",
    "import seaborn as sns\n",
    "\n",
    "# Entrenamiento\n",
    "epoch_count = range(1, len(history_ppl) + 1)\n",
    "sns.lineplot(x=epoch_count,  y=history_ppl)\n",
    "plt.show()"
   ]
  },
  {
   "cell_type": "code",
   "execution_count": 62,
   "metadata": {
    "id": "Rhy5hZN38qfO"
   },
   "outputs": [],
   "source": [
    "# Cargamos el mejor modelo guardado del entrenamiento para hacer inferencia\n",
    "model = keras.models.load_model('my_model.keras')"
   ]
  },
  {
   "cell_type": "markdown",
   "metadata": {
    "id": "KN6Fg_BsxJe6"
   },
   "source": [
    "\n",
    "### Predicción del próximo caracter"
   ]
  },
  {
   "cell_type": "code",
   "execution_count": 64,
   "metadata": {
    "id": "IBvKHFPmzpy2"
   },
   "outputs": [],
   "source": [
    "# Se puede usar gradio para probar el modelo\n",
    "# Gradio es una herramienta muy útil para crear interfaces para ensayar modelos\n",
    "# https://gradio.app/\n",
    "\n",
    "!pip install -q gradio"
   ]
  },
  {
   "cell_type": "code",
   "execution_count": 66,
   "metadata": {
    "id": "HNyBykvhzs7-"
   },
   "outputs": [
    {
     "name": "stdout",
     "output_type": "stream",
     "text": [
      "* Running on local URL:  http://127.0.0.1:7860\n",
      "* To create a public link, set `share=True` in `launch()`.\n"
     ]
    },
    {
     "data": {
      "text/html": [
       "<div><iframe src=\"http://127.0.0.1:7860/\" width=\"100%\" height=\"500\" allow=\"autoplay; camera; microphone; clipboard-read; clipboard-write;\" frameborder=\"0\" allowfullscreen></iframe></div>"
      ],
      "text/plain": [
       "<IPython.core.display.HTML object>"
      ]
     },
     "metadata": {},
     "output_type": "display_data"
    },
    {
     "name": "stdout",
     "output_type": "stream",
     "text": [
      "\u001b[1m1/1\u001b[0m \u001b[32m━━━━━━━━━━━━━━━━━━━━\u001b[0m\u001b[37m\u001b[0m \u001b[1m1s\u001b[0m 1s/step\n",
      "\u001b[1m1/1\u001b[0m \u001b[32m━━━━━━━━━━━━━━━━━━━━\u001b[0m\u001b[37m\u001b[0m \u001b[1m0s\u001b[0m 33ms/step\n",
      "\u001b[1m1/1\u001b[0m \u001b[32m━━━━━━━━━━━━━━━━━━━━\u001b[0m\u001b[37m\u001b[0m \u001b[1m0s\u001b[0m 35ms/step\n",
      "Keyboard interruption in main thread... closing server.\n"
     ]
    },
    {
     "data": {
      "text/plain": []
     },
     "execution_count": 66,
     "metadata": {},
     "output_type": "execute_result"
    }
   ],
   "source": [
    "import gradio as gr\n",
    "\n",
    "def model_response(human_text):\n",
    "\n",
    "    # Encodeamos\n",
    "    encoded = [char2idx[ch] for ch in human_text.lower() ]\n",
    "    # Si tienen distinto largo\n",
    "    encoded = pad_sequences([encoded], maxlen=max_context_size, padding='pre')\n",
    "\n",
    "    # Predicción softmax\n",
    "    y_hat = np.argmax(model.predict(encoded)[0,-1,:])\n",
    "\n",
    "\n",
    "    # Debemos buscar en el vocabulario el caracter\n",
    "    # que corresopnde al indice (y_hat) predicho por le modelo\n",
    "    out_word = ''\n",
    "    out_word = idx2char[y_hat]\n",
    "\n",
    "    # Agrego la palabra a la frase predicha\n",
    "    return human_text + out_word\n",
    "\n",
    "iface = gr.Interface(\n",
    "    fn=model_response,\n",
    "    inputs=[\"textbox\"],\n",
    "    outputs=\"text\")\n",
    "\n",
    "iface.launch(debug=True)"
   ]
  },
  {
   "cell_type": "markdown",
   "metadata": {
    "id": "mCeMWWupxN1-"
   },
   "source": [
    "### Generación de secuencias"
   ]
  },
  {
   "cell_type": "code",
   "execution_count": 70,
   "metadata": {
    "id": "bwbS_pfhxvB3"
   },
   "outputs": [],
   "source": [
    "def generate_seq(model, seed_text, max_length, n_words):\n",
    "    \"\"\"\n",
    "        Exec model sequence prediction\n",
    "\n",
    "        Args:\n",
    "            model (keras): melo entrenado\n",
    "            seed_text (string): texto de entrada (input_seq)\n",
    "            max_length (int): máxima longitud de la sequencia de entrada\n",
    "            n_words (int): números de caracteres a agregar a la sequencia de entrada\n",
    "        returns:\n",
    "            output_text (string): sentencia con las \"n_words\" agregadas\n",
    "    \"\"\"\n",
    "    output_text = seed_textod\n",
    "\t# generate a fixed number of words\n",
    "    for _ in range(n_words):\n",
    "\t\t# Encodeamos\n",
    "        encoded = [char2idx[ch] for ch in output_text.lower() ]\n",
    "\t\t# Si tienen distinto largo\n",
    "        encoded = pad_sequences([encoded], maxlen=max_length, padding='pre')\n",
    "\n",
    "\t\t# Predicción softmax\n",
    "        y_hat = np.argmax(model.predict(encoded,verbose=0)[0,-1,:])\n",
    "\t\t# Vamos concatenando las predicciones\n",
    "        out_word = ''\n",
    "\n",
    "        out_word = idx2char[y_hat]\n",
    "\n",
    "\t\t# Agrego las palabras a la frase predicha\n",
    "        output_text += out_word\n",
    "    return output_text"
   ]
  },
  {
   "cell_type": "code",
   "execution_count": 74,
   "metadata": {
    "id": "JoFqRC5pxzqS"
   },
   "outputs": [
    {
     "data": {
      "text/plain": [
       "'la cosa anda tan fruncida\\ny al palo en el carreron\\nlos '"
      ]
     },
     "execution_count": 74,
     "metadata": {},
     "output_type": "execute_result"
    }
   ],
   "source": [
    "input_text='la cosa anda tan fruncida'\n",
    "\n",
    "generate_seq(model, input_text, max_length=max_context_size, n_words=30)"
   ]
  },
  {
   "cell_type": "markdown",
   "metadata": {
    "id": "drJ6xn5qW1Hl"
   },
   "source": [
    "###  Beam search y muestreo aleatorio"
   ]
  },
  {
   "cell_type": "code",
   "execution_count": 76,
   "metadata": {
    "id": "_vovn9XZW1Hl"
   },
   "outputs": [],
   "source": [
    "# funcionalidades para hacer encoding y decoding\n",
    "\n",
    "def encode(text,max_length=max_context_size):\n",
    "\n",
    "    encoded = [char2idx[ch] for ch in text]\n",
    "    encoded = pad_sequences([encoded], maxlen=max_length, padding='pre')\n",
    "\n",
    "    return encoded\n",
    "\n",
    "def decode(seq):\n",
    "    return ''.join([idx2char[ch] for ch in seq])"
   ]
  },
  {
   "cell_type": "code",
   "execution_count": 78,
   "metadata": {
    "id": "I_lZiQwkW1Hl"
   },
   "outputs": [],
   "source": [
    "from scipy.special import softmax\n",
    "\n",
    "# función que selecciona candidatos para el beam search\n",
    "def select_candidates(pred,num_beams,vocab_size,history_probs,history_tokens,temp,mode):\n",
    "\n",
    "  # colectar todas las probabilidades para la siguiente búsqueda\n",
    "  pred_large = []\n",
    "\n",
    "  for idx,pp in enumerate(pred):\n",
    "    pred_large.extend(np.log(pp+1E-10)+history_probs[idx])\n",
    "\n",
    "  pred_large = np.array(pred_large)\n",
    "\n",
    "  # criterio de selección\n",
    "  if mode == 'det':\n",
    "    idx_select = np.argsort(pred_large)[::-1][:num_beams] # beam search determinista\n",
    "  elif mode == 'sto':\n",
    "    idx_select = np.random.choice(np.arange(pred_large.shape[0]), num_beams, p=softmax(pred_large/temp)) # beam search con muestreo aleatorio\n",
    "  else:\n",
    "    raise ValueError(f'Wrong selection mode. {mode} was given. det and sto are supported.')\n",
    "\n",
    "  # traducir a índices de token en el vocabulario\n",
    "  new_history_tokens = np.concatenate((np.array(history_tokens)[idx_select//vocab_size],\n",
    "                        np.array([idx_select%vocab_size]).T),\n",
    "                      axis=1)\n",
    "\n",
    "  # devolver el producto de las probabilidades (log) y la secuencia de tokens seleccionados\n",
    "  return pred_large[idx_select.astype(int)], new_history_tokens.astype(int)\n",
    "\n",
    "\n",
    "def beam_search(model,num_beams,num_words,input,temp=1,mode='det'):\n",
    "\n",
    "    # first iteration\n",
    "\n",
    "    # encode\n",
    "    encoded = encode(input)\n",
    "\n",
    "    # first prediction\n",
    "    y_hat = model.predict(encoded,verbose=0)[0,-1,:]\n",
    "\n",
    "    # get vocabulary size\n",
    "    vocab_size = y_hat.shape[0]\n",
    "\n",
    "    # initialize history\n",
    "    history_probs = [0]*num_beams\n",
    "    history_tokens = [encoded[0]]*num_beams\n",
    "\n",
    "    # select num_beams candidates\n",
    "    history_probs, history_tokens = select_candidates([y_hat],\n",
    "                                        num_beams,\n",
    "                                        vocab_size,\n",
    "                                        history_probs,\n",
    "                                        history_tokens,\n",
    "                                        temp,\n",
    "                                        mode)\n",
    "\n",
    "    # beam search loop\n",
    "    for i in range(num_words-1):\n",
    "\n",
    "      preds = []\n",
    "\n",
    "      for hist in history_tokens:\n",
    "\n",
    "        # actualizar secuencia de tokens\n",
    "        input_update = np.array([hist[i+1:]]).copy()\n",
    "\n",
    "        # predicción\n",
    "        y_hat = model.predict(input_update,verbose=0)[0,-1,:]\n",
    "\n",
    "        preds.append(y_hat)\n",
    "\n",
    "      history_probs, history_tokens = select_candidates(preds,\n",
    "                                                        num_beams,\n",
    "                                                        vocab_size,\n",
    "                                                        history_probs,\n",
    "                                                        history_tokens,\n",
    "                                                        temp,\n",
    "                                                        mode)\n",
    "\n",
    "    return history_tokens[:,-(len(input)+num_words):]"
   ]
  },
  {
   "cell_type": "code",
   "execution_count": 81,
   "metadata": {
    "id": "GeLqAoOYW1Hm"
   },
   "outputs": [],
   "source": [
    "# predicción con beam search\n",
    "salidas = beam_search(model,num_beams=10,num_words=20,input=\"la cosa anda tan fruncida\")"
   ]
  },
  {
   "cell_type": "code",
   "execution_count": 82,
   "metadata": {
    "id": "P8HQoLhw-NYg"
   },
   "outputs": [
    {
     "data": {
      "text/plain": [
       "array([ 0, 53, 73, 63, 22, 46, 53, 73, 53, 36, 42, 53, 73, 51, 53, 36, 73,\n",
       "       26,  5, 61, 36, 63, 19, 42, 53, 27,  1, 14, 61, 37, 73, 37,  0, 73,\n",
       "       77, 53, 61, 63, 31, 22, 73, 14, 61, 37, 73])"
      ]
     },
     "execution_count": 82,
     "metadata": {},
     "output_type": "execute_result"
    }
   ],
   "source": [
    "salidas[0]"
   ]
  },
  {
   "cell_type": "code",
   "execution_count": 83,
   "metadata": {
    "id": "2S3_I3S1W1Hm"
   },
   "outputs": [
    {
     "data": {
      "text/plain": [
       "'la cosa anda tan fruncida,\\nque el gaucho que '"
      ]
     },
     "execution_count": 83,
     "metadata": {},
     "output_type": "execute_result"
    }
   ],
   "source": [
    "# veamos las salidas\n",
    "decode(salidas[0])"
   ]
  },
  {
   "cell_type": "markdown",
   "metadata": {},
   "source": [
    "Probamos con greedy_search el modelo entrenado"
   ]
  },
  {
   "cell_type": "code",
   "execution_count": null,
   "metadata": {},
   "outputs": [],
   "source": [
    "\n",
    "\n",
    "def greedy_search(model, input_text, num_chars=100):\n",
    "    \"\"\"\n",
    "    Genera texto carácter por carácter usando búsqueda codiciosa.\n",
    "\n",
    "    Parámetros:\n",
    "    - model: modelo RNN ya entrenado\n",
    "    - input_text: texto semilla (str)\n",
    "    - num_chars: cuántos caracteres nuevos generar\n",
    "\n",
    "    Devuelve:\n",
    "    - texto generado completo (input + predicción)\n",
    "    \"\"\"\n",
    "\n",
    "    # Codificamos el texto inicial\n",
    "    encoded = encode(input_text)\n",
    "\n",
    "    # Lo convertimos a una lista de índices\n",
    "    generated = list(encoded[0])\n",
    "\n",
    "    for _ in range(num_chars):\n",
    "        # Extraemos la parte final de la secuencia\n",
    "        input_seq = np.array([generated[-max_context_size:]])  # Tamaño de contexto\n",
    "\n",
    "        # Predecimos el siguiente carácter\n",
    "        y_pred = model.predict(input_seq, verbose=0)[0, -1]\n",
    "\n",
    "        # Tomamos el índice del carácter con mayor probabilidad\n",
    "        next_char_idx = np.argmax(y_pred)\n",
    "\n",
    "        # Lo agregamos a la secuencia generada\n",
    "        generated.append(next_char_idx)\n",
    "\n",
    "    # Decodificamos a texto\n",
    "    return decode(generated[-(len(input_text) + num_chars):])\n"
   ]
  },
  {
   "cell_type": "code",
   "execution_count": 102,
   "metadata": {},
   "outputs": [
    {
     "name": "stdout",
     "output_type": "stream",
     "text": [
      "la cosa anda tan fruncida\n",
      "y al palo en el carreron\n",
      "los palas de allí al como el gaucho se andaba\n",
      "y la acarra el corozón\n",
      "los palas de allí al como el gaucho se andaba\n",
      "y la acarra el corozón\n",
      "los palas de allí al como el gaucho \n"
     ]
    }
   ],
   "source": [
    "texto = greedy_search(model, input_text=\"la cosa anda tan fruncida\", num_chars=200)\n",
    "print(texto)"
   ]
  },
  {
   "cell_type": "markdown",
   "metadata": {
    "id": "Q_LlqmtEW1Hn"
   },
   "source": [
    "# Ahora vamos a probar entrenando un modelo LSTM   return textos_generados\r\n",
    "    return textos_generados"
   ]
  },
  {
   "attachments": {},
   "cell_type": "markdown",
   "metadata": {},
   "source": [
    "## Definiendo el modelo LSTM"
   ]
  },
  {
   "cell_type": "code",
   "execution_count": 132,
   "metadata": {},
   "outputs": [
    {
     "name": "stderr",
     "output_type": "stream",
     "text": [
      "C:\\Users\\Chelo\\anaconda3\\Lib\\site-packages\\keras\\src\\layers\\core\\wrapper.py:27: UserWarning: Do not pass an `input_shape`/`input_dim` argument to a layer. When using Sequential models, prefer using an `Input(shape)` object as the first layer in the model instead.\n",
      "  super().__init__(**kwargs)\n"
     ]
    },
    {
     "data": {
      "text/html": [
       "<pre style=\"white-space:pre;overflow-x:auto;line-height:normal;font-family:Menlo,'DejaVu Sans Mono',consolas,'Courier New',monospace\"><span style=\"font-weight: bold\">Model: \"sequential_2\"</span>\n",
       "</pre>\n"
      ],
      "text/plain": [
       "\u001b[1mModel: \"sequential_2\"\u001b[0m\n"
      ]
     },
     "metadata": {},
     "output_type": "display_data"
    },
    {
     "data": {
      "text/html": [
       "<pre style=\"white-space:pre;overflow-x:auto;line-height:normal;font-family:Menlo,'DejaVu Sans Mono',consolas,'Courier New',monospace\">┏━━━━━━━━━━━━━━━━━━━━━━━━━━━━━━━━━┳━━━━━━━━━━━━━━━━━━━━━━━━┳━━━━━━━━━━━━━━━┓\n",
       "┃<span style=\"font-weight: bold\"> Layer (type)                    </span>┃<span style=\"font-weight: bold\"> Output Shape           </span>┃<span style=\"font-weight: bold\">       Param # </span>┃\n",
       "┡━━━━━━━━━━━━━━━━━━━━━━━━━━━━━━━━━╇━━━━━━━━━━━━━━━━━━━━━━━━╇━━━━━━━━━━━━━━━┩\n",
       "│ time_distributed_2              │ (<span style=\"color: #00d7ff; text-decoration-color: #00d7ff\">None</span>, <span style=\"color: #00d7ff; text-decoration-color: #00d7ff\">None</span>, <span style=\"color: #00af00; text-decoration-color: #00af00\">80</span>)       │             <span style=\"color: #00af00; text-decoration-color: #00af00\">0</span> │\n",
       "│ (<span style=\"color: #0087ff; text-decoration-color: #0087ff\">TimeDistributed</span>)               │                        │               │\n",
       "├─────────────────────────────────┼────────────────────────┼───────────────┤\n",
       "│ lstm_1 (<span style=\"color: #0087ff; text-decoration-color: #0087ff\">LSTM</span>)                   │ (<span style=\"color: #00d7ff; text-decoration-color: #00d7ff\">None</span>, <span style=\"color: #00d7ff; text-decoration-color: #00d7ff\">None</span>, <span style=\"color: #00af00; text-decoration-color: #00af00\">200</span>)      │       <span style=\"color: #00af00; text-decoration-color: #00af00\">224,800</span> │\n",
       "├─────────────────────────────────┼────────────────────────┼───────────────┤\n",
       "│ dense_2 (<span style=\"color: #0087ff; text-decoration-color: #0087ff\">Dense</span>)                 │ (<span style=\"color: #00d7ff; text-decoration-color: #00d7ff\">None</span>, <span style=\"color: #00d7ff; text-decoration-color: #00d7ff\">None</span>, <span style=\"color: #00af00; text-decoration-color: #00af00\">80</span>)       │        <span style=\"color: #00af00; text-decoration-color: #00af00\">16,080</span> │\n",
       "└─────────────────────────────────┴────────────────────────┴───────────────┘\n",
       "</pre>\n"
      ],
      "text/plain": [
       "┏━━━━━━━━━━━━━━━━━━━━━━━━━━━━━━━━━┳━━━━━━━━━━━━━━━━━━━━━━━━┳━━━━━━━━━━━━━━━┓\n",
       "┃\u001b[1m \u001b[0m\u001b[1mLayer (type)                   \u001b[0m\u001b[1m \u001b[0m┃\u001b[1m \u001b[0m\u001b[1mOutput Shape          \u001b[0m\u001b[1m \u001b[0m┃\u001b[1m \u001b[0m\u001b[1m      Param #\u001b[0m\u001b[1m \u001b[0m┃\n",
       "┡━━━━━━━━━━━━━━━━━━━━━━━━━━━━━━━━━╇━━━━━━━━━━━━━━━━━━━━━━━━╇━━━━━━━━━━━━━━━┩\n",
       "│ time_distributed_2              │ (\u001b[38;5;45mNone\u001b[0m, \u001b[38;5;45mNone\u001b[0m, \u001b[38;5;34m80\u001b[0m)       │             \u001b[38;5;34m0\u001b[0m │\n",
       "│ (\u001b[38;5;33mTimeDistributed\u001b[0m)               │                        │               │\n",
       "├─────────────────────────────────┼────────────────────────┼───────────────┤\n",
       "│ lstm_1 (\u001b[38;5;33mLSTM\u001b[0m)                   │ (\u001b[38;5;45mNone\u001b[0m, \u001b[38;5;45mNone\u001b[0m, \u001b[38;5;34m200\u001b[0m)      │       \u001b[38;5;34m224,800\u001b[0m │\n",
       "├─────────────────────────────────┼────────────────────────┼───────────────┤\n",
       "│ dense_2 (\u001b[38;5;33mDense\u001b[0m)                 │ (\u001b[38;5;45mNone\u001b[0m, \u001b[38;5;45mNone\u001b[0m, \u001b[38;5;34m80\u001b[0m)       │        \u001b[38;5;34m16,080\u001b[0m │\n",
       "└─────────────────────────────────┴────────────────────────┴───────────────┘\n"
      ]
     },
     "metadata": {},
     "output_type": "display_data"
    },
    {
     "data": {
      "text/html": [
       "<pre style=\"white-space:pre;overflow-x:auto;line-height:normal;font-family:Menlo,'DejaVu Sans Mono',consolas,'Courier New',monospace\"><span style=\"font-weight: bold\"> Total params: </span><span style=\"color: #00af00; text-decoration-color: #00af00\">240,880</span> (940.94 KB)\n",
       "</pre>\n"
      ],
      "text/plain": [
       "\u001b[1m Total params: \u001b[0m\u001b[38;5;34m240,880\u001b[0m (940.94 KB)\n"
      ]
     },
     "metadata": {},
     "output_type": "display_data"
    },
    {
     "data": {
      "text/html": [
       "<pre style=\"white-space:pre;overflow-x:auto;line-height:normal;font-family:Menlo,'DejaVu Sans Mono',consolas,'Courier New',monospace\"><span style=\"font-weight: bold\"> Trainable params: </span><span style=\"color: #00af00; text-decoration-color: #00af00\">240,880</span> (940.94 KB)\n",
       "</pre>\n"
      ],
      "text/plain": [
       "\u001b[1m Trainable params: \u001b[0m\u001b[38;5;34m240,880\u001b[0m (940.94 KB)\n"
      ]
     },
     "metadata": {},
     "output_type": "display_data"
    },
    {
     "data": {
      "text/html": [
       "<pre style=\"white-space:pre;overflow-x:auto;line-height:normal;font-family:Menlo,'DejaVu Sans Mono',consolas,'Courier New',monospace\"><span style=\"font-weight: bold\"> Non-trainable params: </span><span style=\"color: #00af00; text-decoration-color: #00af00\">0</span> (0.00 B)\n",
       "</pre>\n"
      ],
      "text/plain": [
       "\u001b[1m Non-trainable params: \u001b[0m\u001b[38;5;34m0\u001b[0m (0.00 B)\n"
      ]
     },
     "metadata": {},
     "output_type": "display_data"
    }
   ],
   "source": [
    "model = Sequential()\n",
    "\n",
    "model.add(TimeDistributed(CategoryEncoding(num_tokens=vocab_size, output_mode = \"one_hot\"),input_shape=(None,1)))\n",
    "model.add(LSTM(200, return_sequences=True, dropout=0.1, recurrent_dropout=0.1 ))\n",
    "model.add(Dense(vocab_size, activation='softmax'))\n",
    "model.compile(loss='sparse_categorical_crossentropy', optimizer='rmsprop')\n",
    "\n",
    "model.summary()"
   ]
  },
  {
   "cell_type": "markdown",
   "metadata": {},
   "source": [
    "### Entrenamiento"
   ]
  },
  {
   "cell_type": "code",
   "execution_count": 113,
   "metadata": {},
   "outputs": [
    {
     "name": "stdout",
     "output_type": "stream",
     "text": [
      "Epoch 1/20\n",
      "\u001b[1m214/214\u001b[0m \u001b[32m━━━━━━━━━━━━━━━━━━━━\u001b[0m\u001b[37m\u001b[0m \u001b[1m0s\u001b[0m 336ms/step - loss: 3.2528\n",
      " mean perplexity: 16.21842494545471 \n",
      "\n",
      "Saved new model!\n",
      "\u001b[1m214/214\u001b[0m \u001b[32m━━━━━━━━━━━━━━━━━━━━\u001b[0m\u001b[37m\u001b[0m \u001b[1m86s\u001b[0m 366ms/step - loss: 3.2520\n",
      "Epoch 2/20\n",
      "\u001b[1m214/214\u001b[0m \u001b[32m━━━━━━━━━━━━━━━━━━━━\u001b[0m\u001b[37m\u001b[0m \u001b[1m0s\u001b[0m 291ms/step - loss: 2.7171\n",
      " mean perplexity: 11.702557303906415 \n",
      "\n",
      "Saved new model!\n",
      "\u001b[1m214/214\u001b[0m \u001b[32m━━━━━━━━━━━━━━━━━━━━\u001b[0m\u001b[37m\u001b[0m \u001b[1m64s\u001b[0m 299ms/step - loss: 2.7167\n",
      "Epoch 3/20\n",
      "\u001b[1m214/214\u001b[0m \u001b[32m━━━━━━━━━━━━━━━━━━━━\u001b[0m\u001b[37m\u001b[0m \u001b[1m0s\u001b[0m 288ms/step - loss: 2.4414\n",
      " mean perplexity: 9.92325551862784 \n",
      "\n",
      "Saved new model!\n",
      "\u001b[1m214/214\u001b[0m \u001b[32m━━━━━━━━━━━━━━━━━━━━\u001b[0m\u001b[37m\u001b[0m \u001b[1m63s\u001b[0m 295ms/step - loss: 2.4412\n",
      "Epoch 4/20\n",
      "\u001b[1m214/214\u001b[0m \u001b[32m━━━━━━━━━━━━━━━━━━━━\u001b[0m\u001b[37m\u001b[0m \u001b[1m0s\u001b[0m 294ms/step - loss: 2.3123\n",
      " mean perplexity: 9.342785349676625 \n",
      "\n",
      "Saved new model!\n",
      "\u001b[1m214/214\u001b[0m \u001b[32m━━━━━━━━━━━━━━━━━━━━\u001b[0m\u001b[37m\u001b[0m \u001b[1m65s\u001b[0m 302ms/step - loss: 2.3122\n",
      "Epoch 5/20\n",
      "\u001b[1m214/214\u001b[0m \u001b[32m━━━━━━━━━━━━━━━━━━━━\u001b[0m\u001b[37m\u001b[0m \u001b[1m0s\u001b[0m 290ms/step - loss: 2.2384\n",
      " mean perplexity: 8.896211271888173 \n",
      "\n",
      "Saved new model!\n",
      "\u001b[1m214/214\u001b[0m \u001b[32m━━━━━━━━━━━━━━━━━━━━\u001b[0m\u001b[37m\u001b[0m \u001b[1m64s\u001b[0m 298ms/step - loss: 2.2384\n",
      "Epoch 6/20\n",
      "\u001b[1m214/214\u001b[0m \u001b[32m━━━━━━━━━━━━━━━━━━━━\u001b[0m\u001b[37m\u001b[0m \u001b[1m0s\u001b[0m 301ms/step - loss: 2.1840\n",
      " mean perplexity: 8.69306465793871 \n",
      "\n",
      "Saved new model!\n",
      "\u001b[1m214/214\u001b[0m \u001b[32m━━━━━━━━━━━━━━━━━━━━\u001b[0m\u001b[37m\u001b[0m \u001b[1m66s\u001b[0m 308ms/step - loss: 2.1840\n",
      "Epoch 7/20\n",
      "\u001b[1m214/214\u001b[0m \u001b[32m━━━━━━━━━━━━━━━━━━━━\u001b[0m\u001b[37m\u001b[0m \u001b[1m0s\u001b[0m 300ms/step - loss: 2.1453\n",
      " mean perplexity: 8.469003266940435 \n",
      "\n",
      "Saved new model!\n",
      "\u001b[1m214/214\u001b[0m \u001b[32m━━━━━━━━━━━━━━━━━━━━\u001b[0m\u001b[37m\u001b[0m \u001b[1m66s\u001b[0m 308ms/step - loss: 2.1453\n",
      "Epoch 8/20\n",
      "\u001b[1m214/214\u001b[0m \u001b[32m━━━━━━━━━━━━━━━━━━━━\u001b[0m\u001b[37m\u001b[0m \u001b[1m0s\u001b[0m 297ms/step - loss: 2.1114\n",
      " mean perplexity: 8.305289306573231 \n",
      "\n",
      "Saved new model!\n",
      "\u001b[1m214/214\u001b[0m \u001b[32m━━━━━━━━━━━━━━━━━━━━\u001b[0m\u001b[37m\u001b[0m \u001b[1m65s\u001b[0m 305ms/step - loss: 2.1114\n",
      "Epoch 9/20\n",
      "\u001b[1m214/214\u001b[0m \u001b[32m━━━━━━━━━━━━━━━━━━━━\u001b[0m\u001b[37m\u001b[0m \u001b[1m0s\u001b[0m 307ms/step - loss: 2.0835\n",
      " mean perplexity: 8.447352902913627 \n",
      "\n",
      "\u001b[1m214/214\u001b[0m \u001b[32m━━━━━━━━━━━━━━━━━━━━\u001b[0m\u001b[37m\u001b[0m \u001b[1m67s\u001b[0m 315ms/step - loss: 2.0834\n",
      "Epoch 10/20\n",
      "\u001b[1m214/214\u001b[0m \u001b[32m━━━━━━━━━━━━━━━━━━━━\u001b[0m\u001b[37m\u001b[0m \u001b[1m0s\u001b[0m 314ms/step - loss: 2.0600\n",
      " mean perplexity: 8.21495171777092 \n",
      "\n",
      "Saved new model!\n",
      "\u001b[1m214/214\u001b[0m \u001b[32m━━━━━━━━━━━━━━━━━━━━\u001b[0m\u001b[37m\u001b[0m \u001b[1m69s\u001b[0m 322ms/step - loss: 2.0599\n",
      "Epoch 11/20\n",
      "\u001b[1m214/214\u001b[0m \u001b[32m━━━━━━━━━━━━━━━━━━━━\u001b[0m\u001b[37m\u001b[0m \u001b[1m0s\u001b[0m 313ms/step - loss: 2.0372\n",
      " mean perplexity: 8.113044457157496 \n",
      "\n",
      "Saved new model!\n",
      "\u001b[1m214/214\u001b[0m \u001b[32m━━━━━━━━━━━━━━━━━━━━\u001b[0m\u001b[37m\u001b[0m \u001b[1m69s\u001b[0m 321ms/step - loss: 2.0372\n",
      "Epoch 12/20\n",
      "\u001b[1m214/214\u001b[0m \u001b[32m━━━━━━━━━━━━━━━━━━━━\u001b[0m\u001b[37m\u001b[0m \u001b[1m0s\u001b[0m 324ms/step - loss: 2.0166\n",
      " mean perplexity: 8.113873577870736 \n",
      "\n",
      "\u001b[1m214/214\u001b[0m \u001b[32m━━━━━━━━━━━━━━━━━━━━\u001b[0m\u001b[37m\u001b[0m \u001b[1m71s\u001b[0m 332ms/step - loss: 2.0165\n",
      "Epoch 13/20\n",
      "\u001b[1m214/214\u001b[0m \u001b[32m━━━━━━━━━━━━━━━━━━━━\u001b[0m\u001b[37m\u001b[0m \u001b[1m0s\u001b[0m 311ms/step - loss: 1.9956\n",
      " mean perplexity: 8.214766436230134 \n",
      "\n",
      "\u001b[1m214/214\u001b[0m \u001b[32m━━━━━━━━━━━━━━━━━━━━\u001b[0m\u001b[37m\u001b[0m \u001b[1m68s\u001b[0m 319ms/step - loss: 1.9956\n",
      "Epoch 14/20\n",
      "\u001b[1m214/214\u001b[0m \u001b[32m━━━━━━━━━━━━━━━━━━━━\u001b[0m\u001b[37m\u001b[0m \u001b[1m0s\u001b[0m 307ms/step - loss: 1.9783\n",
      " mean perplexity: 7.992308005983486 \n",
      "\n",
      "Saved new model!\n",
      "\u001b[1m214/214\u001b[0m \u001b[32m━━━━━━━━━━━━━━━━━━━━\u001b[0m\u001b[37m\u001b[0m \u001b[1m67s\u001b[0m 314ms/step - loss: 1.9783\n",
      "Epoch 15/20\n",
      "\u001b[1m214/214\u001b[0m \u001b[32m━━━━━━━━━━━━━━━━━━━━\u001b[0m\u001b[37m\u001b[0m \u001b[1m0s\u001b[0m 311ms/step - loss: 1.9628\n",
      " mean perplexity: 8.058675463680798 \n",
      "\n",
      "\u001b[1m214/214\u001b[0m \u001b[32m━━━━━━━━━━━━━━━━━━━━\u001b[0m\u001b[37m\u001b[0m \u001b[1m68s\u001b[0m 318ms/step - loss: 1.9628\n",
      "Epoch 16/20\n",
      "\u001b[1m214/214\u001b[0m \u001b[32m━━━━━━━━━━━━━━━━━━━━\u001b[0m\u001b[37m\u001b[0m \u001b[1m0s\u001b[0m 311ms/step - loss: 1.9457\n",
      " mean perplexity: 8.0178295763792 \n",
      "\n",
      "\u001b[1m214/214\u001b[0m \u001b[32m━━━━━━━━━━━━━━━━━━━━\u001b[0m\u001b[37m\u001b[0m \u001b[1m68s\u001b[0m 319ms/step - loss: 1.9457\n",
      "Epoch 17/20\n",
      "\u001b[1m214/214\u001b[0m \u001b[32m━━━━━━━━━━━━━━━━━━━━\u001b[0m\u001b[37m\u001b[0m \u001b[1m0s\u001b[0m 316ms/step - loss: 1.9302\n",
      " mean perplexity: 7.845732750233709 \n",
      "\n",
      "Saved new model!\n",
      "\u001b[1m214/214\u001b[0m \u001b[32m━━━━━━━━━━━━━━━━━━━━\u001b[0m\u001b[37m\u001b[0m \u001b[1m69s\u001b[0m 323ms/step - loss: 1.9302\n",
      "Epoch 18/20\n",
      "\u001b[1m214/214\u001b[0m \u001b[32m━━━━━━━━━━━━━━━━━━━━\u001b[0m\u001b[37m\u001b[0m \u001b[1m0s\u001b[0m 311ms/step - loss: 1.9133\n",
      " mean perplexity: 7.91993848594119 \n",
      "\n",
      "\u001b[1m214/214\u001b[0m \u001b[32m━━━━━━━━━━━━━━━━━━━━\u001b[0m\u001b[37m\u001b[0m \u001b[1m68s\u001b[0m 318ms/step - loss: 1.9133\n",
      "Epoch 19/20\n",
      "\u001b[1m214/214\u001b[0m \u001b[32m━━━━━━━━━━━━━━━━━━━━\u001b[0m\u001b[37m\u001b[0m \u001b[1m0s\u001b[0m 305ms/step - loss: 1.8982\n",
      " mean perplexity: 8.209555394037995 \n",
      "\n",
      "\u001b[1m214/214\u001b[0m \u001b[32m━━━━━━━━━━━━━━━━━━━━\u001b[0m\u001b[37m\u001b[0m \u001b[1m67s\u001b[0m 312ms/step - loss: 1.8982\n",
      "Epoch 20/20\n",
      "\u001b[1m214/214\u001b[0m \u001b[32m━━━━━━━━━━━━━━━━━━━━\u001b[0m\u001b[37m\u001b[0m \u001b[1m0s\u001b[0m 311ms/step - loss: 1.8846\n",
      " mean perplexity: 8.06822811231196 \n",
      "\n",
      "\u001b[1m214/214\u001b[0m \u001b[32m━━━━━━━━━━━━━━━━━━━━\u001b[0m\u001b[37m\u001b[0m \u001b[1m68s\u001b[0m 318ms/step - loss: 1.8846\n"
     ]
    }
   ],
   "source": [
    "# fiteamos, nótese el agregado del callback con su inicialización. El batch_size lo podemos seleccionar a mano\n",
    "# en general, lo mejor es escoger el batch más grande posible que minimice el tiempo de cada época.\n",
    "# En la variable `history_ppl` se guardarán los valores de perplejidad para cada época.\n",
    "history_ppl = []\n",
    "hist = model.fit(X, y, epochs=20, callbacks=[PplCallback(tokenized_sentences_val,history_ppl)], batch_size=256)"
   ]
  },
  {
   "cell_type": "code",
   "execution_count": 115,
   "metadata": {},
   "outputs": [
    {
     "data": {
      "image/png": "[encoded data removed]",
      "text/plain": [
       "<Figure size 640x480 with 1 Axes>"
      ]
     },
     "metadata": {},
     "output_type": "display_data"
    }
   ],
   "source": [
    "import matplotlib.pyplot as plt\n",
    "import seaborn as sns\n",
    "\n",
    "# Entrenamiento\n",
    "epoch_count = range(1, len(history_ppl) + 1)\n",
    "sns.lineplot(x=epoch_count,  y=history_ppl)\n",
    "plt.show()"
   ]
  },
  {
   "cell_type": "code",
   "execution_count": 117,
   "metadata": {},
   "outputs": [],
   "source": [
    "# Cargamos el mejor modelo guardado del entrenamiento para hacer inferencia\n",
    "model = keras.models.load_model('my_model.keras')"
   ]
  },
  {
   "cell_type": "code",
   "execution_count": 119,
   "metadata": {},
   "outputs": [
    {
     "name": "stdout",
     "output_type": "stream",
     "text": [
      "* Running on local URL:  http://127.0.0.1:7860\n",
      "* To create a public link, set `share=True` in `launch()`.\n"
     ]
    },
    {
     "data": {
      "text/html": [
       "<div><iframe src=\"http://127.0.0.1:7860/\" width=\"100%\" height=\"500\" allow=\"autoplay; camera; microphone; clipboard-read; clipboard-write;\" frameborder=\"0\" allowfullscreen></iframe></div>"
      ],
      "text/plain": [
       "<IPython.core.display.HTML object>"
      ]
     },
     "metadata": {},
     "output_type": "display_data"
    },
    {
     "name": "stdout",
     "output_type": "stream",
     "text": [
      "\u001b[1m1/1\u001b[0m \u001b[32m━━━━━━━━━━━━━━━━━━━━\u001b[0m\u001b[37m\u001b[0m \u001b[1m2s\u001b[0m 2s/step\n",
      "\u001b[1m1/1\u001b[0m \u001b[32m━━━━━━━━━━━━━━━━━━━━\u001b[0m\u001b[37m\u001b[0m \u001b[1m0s\u001b[0m 56ms/step\n",
      "\u001b[1m1/1\u001b[0m \u001b[32m━━━━━━━━━━━━━━━━━━━━\u001b[0m\u001b[37m\u001b[0m \u001b[1m0s\u001b[0m 56ms/step\n",
      "\u001b[1m1/1\u001b[0m \u001b[32m━━━━━━━━━━━━━━━━━━━━\u001b[0m\u001b[37m\u001b[0m \u001b[1m0s\u001b[0m 59ms/step\n",
      "\u001b[1m1/1\u001b[0m \u001b[32m━━━━━━━━━━━━━━━━━━━━\u001b[0m\u001b[37m\u001b[0m \u001b[1m0s\u001b[0m 58ms/step\n",
      "\u001b[1m1/1\u001b[0m \u001b[32m━━━━━━━━━━━━━━━━━━━━\u001b[0m\u001b[37m\u001b[0m \u001b[1m0s\u001b[0m 56ms/step\n",
      "\u001b[1m1/1\u001b[0m \u001b[32m━━━━━━━━━━━━━━━━━━━━\u001b[0m\u001b[37m\u001b[0m \u001b[1m0s\u001b[0m 61ms/step\n",
      "\u001b[1m1/1\u001b[0m \u001b[32m━━━━━━━━━━━━━━━━━━━━\u001b[0m\u001b[37m\u001b[0m \u001b[1m0s\u001b[0m 55ms/step\n",
      "\u001b[1m1/1\u001b[0m \u001b[32m━━━━━━━━━━━━━━━━━━━━\u001b[0m\u001b[37m\u001b[0m \u001b[1m0s\u001b[0m 52ms/step\n",
      "\u001b[1m1/1\u001b[0m \u001b[32m━━━━━━━━━━━━━━━━━━━━\u001b[0m\u001b[37m\u001b[0m \u001b[1m0s\u001b[0m 53ms/step\n",
      "\u001b[1m1/1\u001b[0m \u001b[32m━━━━━━━━━━━━━━━━━━━━\u001b[0m\u001b[37m\u001b[0m \u001b[1m0s\u001b[0m 55ms/step\n",
      "\u001b[1m1/1\u001b[0m \u001b[32m━━━━━━━━━━━━━━━━━━━━\u001b[0m\u001b[37m\u001b[0m \u001b[1m0s\u001b[0m 56ms/step\n",
      "\u001b[1m1/1\u001b[0m \u001b[32m━━━━━━━━━━━━━━━━━━━━\u001b[0m\u001b[37m\u001b[0m \u001b[1m0s\u001b[0m 58ms/step\n",
      "\u001b[1m1/1\u001b[0m \u001b[32m━━━━━━━━━━━━━━━━━━━━\u001b[0m\u001b[37m\u001b[0m \u001b[1m0s\u001b[0m 56ms/step\n",
      "\u001b[1m1/1\u001b[0m \u001b[32m━━━━━━━━━━━━━━━━━━━━\u001b[0m\u001b[37m\u001b[0m \u001b[1m0s\u001b[0m 54ms/step\n",
      "\u001b[1m1/1\u001b[0m \u001b[32m━━━━━━━━━━━━━━━━━━━━\u001b[0m\u001b[37m\u001b[0m \u001b[1m0s\u001b[0m 57ms/step\n",
      "\u001b[1m1/1\u001b[0m \u001b[32m━━━━━━━━━━━━━━━━━━━━\u001b[0m\u001b[37m\u001b[0m \u001b[1m0s\u001b[0m 52ms/step\n",
      "\u001b[1m1/1\u001b[0m \u001b[32m━━━━━━━━━━━━━━━━━━━━\u001b[0m\u001b[37m\u001b[0m \u001b[1m0s\u001b[0m 57ms/step\n",
      "Keyboard interruption in main thread... closing server.\n"
     ]
    },
    {
     "data": {
      "text/plain": []
     },
     "execution_count": 119,
     "metadata": {},
     "output_type": "execute_result"
    }
   ],
   "source": [
    "import gradio as gr\n",
    "\n",
    "def model_response(human_text):\n",
    "\n",
    "    # Encodeamos\n",
    "    encoded = [char2idx[ch] for ch in human_text.lower() ]\n",
    "    # Si tienen distinto largo\n",
    "    encoded = pad_sequences([encoded], maxlen=max_context_size, padding='pre')\n",
    "\n",
    "    # Predicción softmax\n",
    "    y_hat = np.argmax(model.predict(encoded)[0,-1,:])\n",
    "\n",
    "\n",
    "    # Debemos buscar en el vocabulario el caracter\n",
    "    # que corresopnde al indice (y_hat) predicho por le modelo\n",
    "    out_word = ''\n",
    "    out_word = idx2char[y_hat]\n",
    "\n",
    "    # Agrego la palabra a la frase predicha\n",
    "    return human_text + out_word\n",
    "\n",
    "iface = gr.Interface(\n",
    "    fn=model_response,\n",
    "    inputs=[\"textbox\"],\n",
    "    outputs=\"text\")\n",
    "\n",
    "iface.launch(debug=True)"
   ]
  },
  {
   "cell_type": "code",
   "execution_count": 124,
   "metadata": {},
   "outputs": [],
   "source": [
    "# predicción con beam search\n",
    "salidas = beam_search(model,num_beams=10,num_words=20,input=\"la cosa anda tan fruncida\")"
   ]
  },
  {
   "cell_type": "code",
   "execution_count": 125,
   "metadata": {},
   "outputs": [
    {
     "data": {
      "text/plain": [
       "array([ 0, 53, 73, 63, 22, 46, 53, 73, 53, 36, 42, 53, 73, 51, 53, 36, 73,\n",
       "       26,  5, 61, 36, 63, 19, 42, 53,  1, 14, 61, 37, 73, 37,  0, 73, 77,\n",
       "       53, 61, 63, 31, 22, 73, 14, 61, 37, 73, 37])"
      ]
     },
     "execution_count": 125,
     "metadata": {},
     "output_type": "execute_result"
    }
   ],
   "source": [
    "salidas[0]"
   ]
  },
  {
   "cell_type": "code",
   "execution_count": 126,
   "metadata": {},
   "outputs": [
    {
     "data": {
      "text/plain": [
       "'la cosa anda tan fruncida\\nque el gaucho que e'"
      ]
     },
     "execution_count": 126,
     "metadata": {},
     "output_type": "execute_result"
    }
   ],
   "source": [
    "# veamos las salidas\n",
    "decode(salidas[0])"
   ]
  },
  {
   "cell_type": "markdown",
   "metadata": {},
   "source": [
    "### Conclusión \n",
    "\n",
    "En esta notebook se desarrolló un proyecto completo de **modelo de lenguaje a nivel de caracteres** aplicado a un corpus literario (el *Martín Fierro*).\n",
    "\n",
    "---\n",
    "\n",
    "### Preprocesamiento y Tokenización\n",
    "\n",
    "- Se trabajó con texto en bruto, convirtiéndolo a minúsculas y eliminando símbolos innecesarios.\n",
    "- Se definió un vocabulario de caracteres únicos (`char2idx`, `idx2char`) para codificar y decodificar texto.\n",
    "- Se utilizaron técnicas como `pad_sequences` y `encode/decode` para preparar los datos como secuencias de entrada para la red.\n",
    "\n",
    "---\n",
    "\n",
    "### Arquitecturas de Modelo\n",
    "\n",
    "- Se entrenaron dos variantes de redes neuronales recurrentes:\n",
    "  1. **SimpleRNN**\n",
    "  2. **LSTM**\n",
    "\n",
    "- Ambos modelos fueron entrenados para predecir el **siguiente carácter** en una secuencia dada.\n",
    "\n",
    "---\n",
    "\n",
    "### Evaluación con Perplejidad\n",
    "\n",
    "- Se implementó un `Callback` para calcular la **perplejidad** sobre un conjunto de validación al final de cada época.\n",
    "- Esta métrica permitió monitorear la calidad del modelo durante el entrenamiento y aplicar early stopping.\n",
    "\n",
    "---\n",
    "\n",
    "### Generación de Texto\n",
    "\n",
    "- Se implementaron dos estrategias para generar texto:\n",
    "  - **Greedy Search**: toma siempre el carácter con mayor probabilidad.\n",
    "  - **Beam Search**: mantiene múltiples trayectorias posibles para encontrar secuencias más coherentes.\n",
    "\n",
    "- También se incorporó la **temperatura** en la versión estocástica para controlar la aleatoriedad en la generación.\n",
    "\n",
    "---\n",
    "\n",
    "### Conclusión final\n",
    "\n",
    "> - Se observó que el modelo basado en **LSTM ofreció mejores resultados** en términos de **coherencia textual y menor perplejidad**. Las secuencias generadas fueron más fluidas, pero aun asi no fueron del todo exactos o esperados, probablemente falta hacer un mejor ajuste de los parametros de los modelos o bien hacer un pre tratamiento del texto diferente.\n",
    "> - Finalmente, se uso el Martín Fierro, una de las obras más representativas de la literatura gauchesca argentina. Este libro no solo ofrece riqueza poética y estilística, sino que además contiene numerosas expresiones del lunfardo y habla popular rioplatense, lo cual representa un desafío interesante para el modelado de lenguaje natural.\n"
   ]
  },
  {
   "cell_type": "code",
   "execution_count": null,
   "metadata": {},
   "outputs": [],
   "source": []
  }
 ],
 "metadata": {
  "accelerator": "GPU",
  "colab": {
   "gpuType": "T4",
   "provenance": []
  },
  "kernelspec": {
   "display_name": "Python 3 (ipykernel)",
   "language": "python",
   "name": "python3"
  },
  "language_info": {
   "codemirror_mode": {
    "name": "ipython",
    "version": 3
   },
   "file_extension": ".py",
   "mimetype": "text/x-python",
   "name": "python",
   "nbconvert_exporter": "python",
   "pygments_lexer": "ipython3",
   "version": "3.12.3"
  }
 },
 "nbformat": 4,
 "nbformat_minor": 4
}
